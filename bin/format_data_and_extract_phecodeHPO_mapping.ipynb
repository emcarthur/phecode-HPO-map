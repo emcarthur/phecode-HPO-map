{
 "cells": [
  {
   "cell_type": "markdown",
   "metadata": {
    "toc": true
   },
   "source": [
    "<h1>Table of Contents<span class=\"tocSkip\"></span></h1>\n",
    "\n",
    "&emsp;&emsp;[Import & Helper Functions](#Import-%26-Helper-Functions)<br>\n",
    "&emsp;&emsp;[Format files](#Format-files)<br>\n",
    "&emsp;&emsp;&emsp;&emsp;[HPO](#HPO)<br>\n",
    "&emsp;&emsp;&emsp;&emsp;[Phecode 1.2](#Phecode-1.2)<br>\n",
    "&emsp;&emsp;&emsp;&emsp;[Phecode X](#Phecode-X)<br>\n",
    "&emsp;&emsp;&emsp;&emsp;[ICD labels From UMLS](#ICD-labels-From-UMLS)<br>\n",
    "&emsp;&emsp;&emsp;&emsp;[ICD9 (and links with Phecodes)](#ICD9-%28and-links-with-Phecodes%29)<br>\n",
    "&emsp;&emsp;&emsp;&emsp;[ICD10 (and links with Phecodes)](#ICD10-%28and-links-with-Phecodes%29)<br>\n",
    "&emsp;&emsp;[Generate links (evidence files)](#Generate-links-%28evidence-files%29)<br>\n",
    "&emsp;&emsp;&emsp;&emsp;[String, substring & wikimed map](#String%2C-substring-%26-wikimed-map)<br>\n",
    "&emsp;&emsp;&emsp;&emsp;&emsp;&emsp;[Identify matches](#Identify-matches)<br>\n",
    "&emsp;&emsp;&emsp;&emsp;&emsp;&emsp;[Read in and save matches](#Read-in-and-save-matches)<br>\n",
    "&emsp;&emsp;&emsp;&emsp;[SORTA](#SORTA)<br>\n",
    "&emsp;&emsp;&emsp;&emsp;&emsp;&emsp;[Format for SORTA](#Format-for-SORTA)<br>\n",
    "&emsp;&emsp;&emsp;&emsp;&emsp;&emsp;[Read in and save SORTA matches](#Read-in-and-save-SORTA-matches)<br>\n",
    "&emsp;&emsp;&emsp;&emsp;[UMLS mapping](#UMLS-mapping)<br>\n",
    "&emsp;&emsp;&emsp;&emsp;&emsp;&emsp;[UMLS mapping plus synonymous terms](#UMLS-mapping-plus-synonymous-terms)<br>\n",
    "&emsp;&emsp;&emsp;&emsp;[PheMap](#PheMap)<br>\n",
    "&emsp;&emsp;[Read in and combine evidence to form final maps](#Read-in-and-combine-evidence-to-form-final-maps)<br>\n",
    "&emsp;&emsp;&emsp;&emsp;[Maps annotated by categories of evidence](#Maps-annotated-by-categories-of-evidence)<br>\n",
    "&emsp;&emsp;&emsp;&emsp;[Maps with all children of HPO terms](#Maps-with-all-children-of-HPO-terms)<br>\n",
    "&emsp;&emsp;[Manually linked](#Manually-linked)<br>\n",
    "&emsp;&emsp;[For manual review](#For-manual-review)<br>\n",
    "&emsp;&emsp;[Filtered and formatted maps](#Filtered-and-formatted-maps)<br>\n",
    "&emsp;&emsp;&emsp;&emsp;[Filtered](#Filtered)<br>\n",
    "&emsp;&emsp;&emsp;&emsp;[Format for PheRS](#Format-for-PheRS)<br>"
   ]
  },
  {
   "cell_type": "markdown",
   "metadata": {},
   "source": [
    "## Import & Helper Functions"
   ]
  },
  {
   "cell_type": "code",
   "execution_count": null,
   "metadata": {
    "collapsed": true
   },
   "outputs": [],
   "source": [
    "# Figures\n",
    "%matplotlib inline\n",
    "import matplotlib.pyplot as plt\n",
    "import matplotlib as mpl\n",
    "mpl.style.use('default') # set to your personal preference\n",
    "import matplotlib.font_manager\n",
    "mpl.rcParams['font.sans-serif'] = \"Arial\"\n",
    "mpl.rcParams['font.family'] = \"sans-serif\"\n",
    "SMALL_SIZE = 10\n",
    "MEDIUM_SIZE = 12\n",
    "BIGGER_SIZE = 14\n",
    "plt.rc('font', size=SMALL_SIZE)          # controls default text sizes\n",
    "plt.rc('axes', titlesize=SMALL_SIZE)     # fontsize of the axes title\n",
    "plt.rc('axes', labelsize=MEDIUM_SIZE)    # fontsize of the x and y labels\n",
    "plt.rc('xtick', labelsize=SMALL_SIZE)    # fontsize of the tick labels\n",
    "plt.rc('ytick', labelsize=SMALL_SIZE)    # fontsize of the tick labels\n",
    "plt.rc('legend', fontsize=SMALL_SIZE)    # legend fontsize\n",
    "plt.rc('axes', titlesize=BIGGER_SIZE)    # fontsize of the figure title\n",
    "\n",
    "#import seaborn as sns\n",
    "#sns.set(color_codes=True) # Seaborn desaturates matplotlib colors (this is useful if you use both seaborn and basic matplot lib and want colors to be consistent)\n",
    "\n",
    "# Ipython notebook basics\n",
    "from IPython.core.interactiveshell import InteractiveShell\n",
    "InteractiveShell.ast_node_interactivity = \"all\"\n",
    "import sys\n",
    "sys.setrecursionlimit(5000)\n",
    "\n",
    "# Things I use everytime\n",
    "import numpy as np\n",
    "np.random.seed(42)\n",
    "import pandas as pd\n",
    "import scipy.stats as stats\n",
    "\n",
    "import ast\n",
    "from pandas.errors import EmptyDataError "
   ]
  },
  {
   "cell_type": "code",
   "execution_count": 2,
   "metadata": {
    "collapsed": true
   },
   "outputs": [],
   "source": [
    "import pandas as pd \n",
    "import re\n",
    "import requests\n",
    "\n",
    "url =\"https://raw.githubusercontent.com/hyperreality/American-British-English-Translator/master/data/british_spellings.json\"\n",
    "british_to_american = requests.get(url).json()  \n",
    "\n",
    "def americanize(string):\n",
    "    '''\n",
    "    Convert British English to US English\n",
    "    From: https://stackoverflow.com/questions/42329766/python-nlp-british-english-vs-american-english\n",
    "    '''\n",
    "    \n",
    "    for british_spelling, american_spelling in british_to_american.items():\n",
    "        string = re.sub(f'(?<![a-zA-Z]){british_spelling}(?![a-z-Z])', american_spelling, string)\n",
    "    return string\n",
    "\n",
    "def removePunctuation(s):\n",
    "    return re.sub(r'[^A-Za-z0-9 .-]+', '', s)\n",
    "\n",
    "def removeNOS(s):\n",
    "    s = re.sub(r'^nos ','',s)\n",
    "    s = re.sub(r' nos$','',s)\n",
    "    s = re.sub(r' nos ','',s)\n",
    "    s = re.sub(r'^unspecified ','',s)\n",
    "    s = re.sub(r' unspecified$','',s)\n",
    "    s = re.sub(r' unspecified ','',s)\n",
    "    return s\n",
    "\n",
    "def simpleLabel(s):\n",
    "    return removeNOS(removePunctuation(americanize(s.lower())))"
   ]
  },
  {
   "cell_type": "code",
   "execution_count": 3,
   "metadata": {
    "collapsed": true
   },
   "outputs": [],
   "source": [
    "RAW_DATA_DIR = \"../data/raw\"\n",
    "DATA_DIR = \"../data\""
   ]
  },
  {
   "cell_type": "markdown",
   "metadata": {},
   "source": [
    "## Format files"
   ]
  },
  {
   "cell_type": "markdown",
   "metadata": {},
   "source": [
    "### HPO"
   ]
  },
  {
   "cell_type": "code",
   "execution_count": 4,
   "metadata": {
    "collapsed": true
   },
   "outputs": [],
   "source": [
    "# from pyhpo.update_data import download_data\n",
    "# download_data()\n",
    "\n",
    "# update to data-version: hp/releases/2022-04-14\n",
    "\n",
    "# To get into the right directory:\n",
    "# $ pwd\n",
    "# /dors/capra_lab/users/evonne/resources/conda_envs/envs/hpo/lib/python3.7/site-packages/pyhpo/data\n",
    "# $ mv hp.obo hpo.obo_old\n",
    "# $ cp /data1/home/mcarthe/.local/lib/python3.6/site-packages/pyhpo/data/hp.obo .\n",
    "\n",
    "from pyhpo import Ontology\n",
    "_ = Ontology()\n",
    "\n"
   ]
  },
  {
   "cell_type": "code",
   "execution_count": 5,
   "metadata": {},
   "outputs": [
    {
     "name": "stdout",
     "output_type": "stream",
     "text": [
      "{'HP:0032220', 'HP:0200124', 'HP:0200123', 'HP:0200084', 'HP:0006562', 'HP:0200122', 'HP:0004787', 'HP:0200120', 'HP:0006572', 'HP:0001412', 'HP:0200119'}\n"
     ]
    }
   ],
   "source": [
    "# Function to find children of HPO term\n",
    "def recursiveChildFinder(children,output):\n",
    "    if len(children) == 0:\n",
    "        return output\n",
    "    else:\n",
    "        for term in children:\n",
    "            output.append(term.id)\n",
    "            recursiveChildFinder(term.children,output)\n",
    "# Example of how to use:\n",
    "x = []\n",
    "recursiveChildFinder(Ontology.get_hpo_object('HP:0012115').children,x)\n",
    "print(set(x))"
   ]
  },
  {
   "cell_type": "code",
   "execution_count": 163,
   "metadata": {},
   "outputs": [
    {
     "data": {
      "text/plain": [
       "HPOTerm(id='HP:0041095', name='Decreased middle cerebral artery pulsatility index', is_a=['HP:0034190 ! Abnormal fetal cardiovascular physiology'])"
      ]
     },
     "execution_count": 163,
     "metadata": {},
     "output_type": "execute_result"
    }
   ],
   "source": [
    "\n",
    "Ontology.get_hpo_object('Decreased middle cerebral artery pulsatility index')"
   ]
  },
  {
   "cell_type": "code",
   "execution_count": null,
   "metadata": {
    "collapsed": true
   },
   "outputs": [],
   "source": [
    "import owlready2\n",
    "\n",
    "onto = owlready2.get_ontology('../data/raw/hp.owl')\n",
    "onto.load()\n",
    "obo = onto.get_namespace(\"http://purl.obolibrary.org/obo/\")\n",
    "\n",
    "hpo_terms = []\n",
    "for i in list(onto.classes()):\n",
    "    if str(i).startswith('obo.HP_'):\n",
    "        hpo_terms.append(str(i).split('obo.')[1])\n",
    "\n",
    "hpo_terms_list = []\n",
    "for i in hpo_terms:\n",
    "    hpo_terms_list.append({'hpo_code':i,'hpo_label':obo[i].label[0],'hpo_simpleLabel': simpleLabel(obo[i].label[0]), 'hpo_original': True})\n",
    "    for syn in obo[i].hasExactSynonym: # For synonyms\n",
    "        if syn != obo[i].label[0]: # if not the same as the original label\n",
    "            hpo_terms_list.append({'hpo_code':i,'hpo_label':syn, 'hpo_simpleLabel': simpleLabel(syn),'hpo_original': False})\n",
    "\n",
    "hpo_terms_list = pd.DataFrame(hpo_terms_list)\n",
    "\n",
    "## REMOVE CERTAIN HPO TERMS ##\n",
    "\n",
    "#Clinical modifier HP:0012823 \n",
    "#Mode of inheritance HP:0000005 \n",
    "#Blood group HP:0032223 \n",
    "#Frequency HP:0040279 \n",
    "#Health status - A vs UA HP:0032319\n",
    "#All - root of all terms\n",
    "setToIgnore = []\n",
    "recursiveChildFinder(Ontology.get_hpo_object('HP:0012823').children,setToIgnore)\n",
    "setToIgnore.append('HP:0012823') \n",
    "recursiveChildFinder(Ontology.get_hpo_object('HP:0000005').children,setToIgnore)\n",
    "setToIgnore.append('HP:0000005') \n",
    "recursiveChildFinder(Ontology.get_hpo_object('HP:0032223').children,setToIgnore)\n",
    "setToIgnore.append('HP:0032223') \n",
    "recursiveChildFinder(Ontology.get_hpo_object('HP:0040279').children,setToIgnore)\n",
    "setToIgnore.append('HP:0040279') \n",
    "recursiveChildFinder(Ontology.get_hpo_object('HP:0032319').children,setToIgnore)\n",
    "setToIgnore.append('HP:0032319') \n",
    "setToIgnore.append('HP:0000001') \n",
    "setToIgnore.append('HP:0000118') # phenotypic abnormality\n",
    "\n",
    "setToIgnore = set([x.replace(\":\",\"_\") for x in setToIgnore])\n",
    "print(len(setToIgnore)) # 245\n",
    "hpo_terms_list = hpo_terms_list[~hpo_terms_list['hpo_code'].isin(setToIgnore)]\n",
    "\n",
    "#hpo_terms_list.to_csv(f'{DATA_DIR}/hpo.tsv',sep='\\t',index=False)\n"
   ]
  },
  {
   "cell_type": "code",
   "execution_count": 164,
   "metadata": {},
   "outputs": [
    {
     "name": "stdout",
     "output_type": "stream",
     "text": [
      "245\n"
     ]
    }
   ],
   "source": [
    "setToIgnore = []\n",
    "recursiveChildFinder(Ontology.get_hpo_object('HP:0012823').children,setToIgnore)\n",
    "setToIgnore.append('HP:0012823') \n",
    "recursiveChildFinder(Ontology.get_hpo_object('HP:0000005').children,setToIgnore)\n",
    "setToIgnore.append('HP:0000005') \n",
    "recursiveChildFinder(Ontology.get_hpo_object('HP:0032223').children,setToIgnore)\n",
    "setToIgnore.append('HP:0032223') \n",
    "recursiveChildFinder(Ontology.get_hpo_object('HP:0040279').children,setToIgnore)\n",
    "setToIgnore.append('HP:0040279') \n",
    "recursiveChildFinder(Ontology.get_hpo_object('HP:0032319').children,setToIgnore)\n",
    "setToIgnore.append('HP:0032319') \n",
    "setToIgnore.append('HP:0000001') \n",
    "\n",
    "setToIgnore = set([x.replace(\":\",\"_\") for x in setToIgnore])\n",
    "print(len(setToIgnore)) # 240"
   ]
  },
  {
   "cell_type": "code",
   "execution_count": 8,
   "metadata": {},
   "outputs": [
    {
     "name": "stdout",
     "output_type": "stream",
     "text": [
      "Number of terms:\n"
     ]
    },
    {
     "data": {
      "text/plain": [
       "16668"
      ]
     },
     "execution_count": 8,
     "metadata": {},
     "output_type": "execute_result"
    },
    {
     "name": "stdout",
     "output_type": "stream",
     "text": [
      "Number of synonyms:\n"
     ]
    },
    {
     "data": {
      "text/plain": [
       "17796"
      ]
     },
     "execution_count": 8,
     "metadata": {},
     "output_type": "execute_result"
    }
   ],
   "source": [
    "hpo_terms_list = pd.read_csv(f'{DATA_DIR}/hpo.tsv',sep='\\t')\n",
    "print(\"Number of terms:\")\n",
    "len(hpo_terms_list['hpo_code'].unique())\n",
    "print(\"Number of synonyms:\")\n",
    "len(hpo_terms_list[~hpo_terms_list['hpo_original']])"
   ]
  },
  {
   "cell_type": "markdown",
   "metadata": {},
   "source": [
    "### Phecode 1.2"
   ]
  },
  {
   "cell_type": "code",
   "execution_count": null,
   "metadata": {
    "collapsed": true
   },
   "outputs": [],
   "source": [
    "df = pd.read_csv(f\"{RAW_DATA_DIR}/phecode_definitions1.2.csv.zip\",dtype={'phecode':str})[['phecode','phenotype','category']]\n",
    "df.columns = ['phecode1.2_code','phecode1.2_label','phecode1.2_category']\n",
    "df['phecode1.2_simpleLabel'] = [simpleLabel(x) for x in df['phecode1.2_label']]\n",
    "df[['phecode1.2_code','phecode1.2_label','phecode1.2_simpleLabel','phecode1.2_category']].to_csv(f\"{DATA_DIR}/phecode1.2.tsv\",sep=\"\\t\",index=False)"
   ]
  },
  {
   "cell_type": "code",
   "execution_count": 9,
   "metadata": {},
   "outputs": [
    {
     "name": "stdout",
     "output_type": "stream",
     "text": [
      "Number of terms:\n"
     ]
    },
    {
     "data": {
      "text/plain": [
       "1866"
      ]
     },
     "execution_count": 9,
     "metadata": {},
     "output_type": "execute_result"
    }
   ],
   "source": [
    "df = pd.read_csv(f'{DATA_DIR}/phecode1.2.tsv',sep='\\t',dtype={'phecode1.2_code':str})\n",
    "print(\"Number of terms:\")\n",
    "len(df['phecode1.2_code'].unique())"
   ]
  },
  {
   "cell_type": "markdown",
   "metadata": {},
   "source": [
    "### Phecode X"
   ]
  },
  {
   "cell_type": "code",
   "execution_count": null,
   "metadata": {
    "collapsed": true
   },
   "outputs": [],
   "source": [
    "df = pd.read_csv(f\"{RAW_DATA_DIR}/4-8-22PheWAS_translate_PhecodeX_strings.csv\",encoding = 'latin1')\n",
    "df = df[~df.isnull().any(axis=1)]\n",
    "df.columns = ['phecodeX_code','phecodeX_label','phecodeX_category']\n",
    "df['phecodeX_simpleLabel'] = [simpleLabel(x) for x in df['phecodeX_label']]\n",
    "\n",
    "df[['phecodeX_code','phecodeX_label','phecodeX_simpleLabel','phecodeX_category']].to_csv(f\"{DATA_DIR}/phecodeX.tsv\",sep=\"\\t\",index=False)\n",
    "#df[df['phecode']=='N293']\n"
   ]
  },
  {
   "cell_type": "code",
   "execution_count": 10,
   "metadata": {},
   "outputs": [
    {
     "name": "stdout",
     "output_type": "stream",
     "text": [
      "Number of terms:\n"
     ]
    },
    {
     "data": {
      "text/plain": [
       "3968"
      ]
     },
     "execution_count": 10,
     "metadata": {},
     "output_type": "execute_result"
    }
   ],
   "source": [
    "df = pd.read_csv(f'{DATA_DIR}/phecodeX.tsv',sep='\\t',dtype={'phecodeX_code':str})\n",
    "print(\"Number of terms:\")\n",
    "len(df['phecodeX_code'].unique())"
   ]
  },
  {
   "cell_type": "markdown",
   "metadata": {},
   "source": [
    "### ICD labels From UMLS"
   ]
  },
  {
   "cell_type": "code",
   "execution_count": 11,
   "metadata": {
    "collapsed": true
   },
   "outputs": [],
   "source": [
    "umls = pd.read_csv(f\"{RAW_DATA_DIR}/MRCONSO.RRF\",dtype=str,sep=\"|\",header=None)\n",
    "umls.columns = [\"CUI\",\n",
    "\"LAT\",\n",
    "\"TS\",\n",
    "\"LUI\",\n",
    "\"STT\",\n",
    "\"SUI\",\n",
    "\"ISPREF\",\n",
    "\"AUI\",\n",
    "\"SAUI\",\n",
    "\"SCUI\",\n",
    "\"SDUI\",\n",
    "\"SAB\",\n",
    "\"TTY\",\n",
    "\"CODE\",\n",
    "\"STR\",\n",
    "\"SRL\",\n",
    "\"SUPPRESS\",\n",
    "\"CVF\",\"\"]"
   ]
  },
  {
   "cell_type": "code",
   "execution_count": 18,
   "metadata": {
    "collapsed": true
   },
   "outputs": [],
   "source": [
    "# ICD 9\n",
    "df = umls[umls['SAB']=='ICD9CM'] \n",
    "df = df[df['TTY'] != \"AB\"][['CODE','STR']]\n",
    "df = df[~df['CODE'].str.contains(\"-\")].sort_values('CODE')\n",
    "df.columns = ['ICD9_code','ICD9_label']\n",
    "\n",
    "phecode_df = pd.read_csv(f\"{RAW_DATA_DIR}/phecode_icd9_rolled.csv\")[['ICD9','ICD9 String']]\n",
    "phecode_df.columns = ['ICD9_code','ICD9_label']\n",
    "\n",
    "merge = df.merge(phecode_df,how='outer', on='ICD9_code',suffixes=('','_x'))\n",
    "merge['ICD9_label'] = [r['ICD9_label'] if pd.notnull(r['ICD9_label']) else r['ICD9_label_x'] for i,r in merge.iterrows()]\n",
    "merge = merge.drop('ICD9_label_x',axis=1)\n",
    "\n",
    "merge.to_csv(f\"{DATA_DIR}/ICD9_labels.tsv\", sep=\"\\t\",index=False)\n",
    "\n",
    "# ICD 10\n",
    "df = umls[umls['SAB']=='ICD10CM'] \n",
    "df = df[(df['TTY'] != \"AB\") & (df['TTY'] != \"ET\")][['CODE','STR']]\n",
    "df = df[~df['CODE'].str.contains(\"-\")].sort_values('CODE')\n",
    "df.columns = ['ICD10_code','ICD10_label']\n",
    "\n",
    "df.to_csv(f\"{DATA_DIR}/ICD10_labels.tsv\", sep=\"\\t\",index=False)"
   ]
  },
  {
   "cell_type": "markdown",
   "metadata": {},
   "source": [
    "### ICD9 (and links with Phecodes)"
   ]
  },
  {
   "cell_type": "code",
   "execution_count": null,
   "metadata": {
    "collapsed": true,
    "scrolled": true
   },
   "outputs": [],
   "source": [
    "phecode12 = pd.read_csv(f\"{RAW_DATA_DIR}/ICD-CM to phecode, unrolled.txt\",dtype={'phecode':str,'ICD':str},sep=\"\\t\")\n",
    "phecode12 = phecode12[phecode12['flag'] == 9][['ICD','phecode']]\n",
    "phecode12.columns = ['ICD9_code','phecode1.2_codeList']\n",
    "phecode12 = pd.DataFrame(phecode12.groupby('ICD9_code')['phecode1.2_codeList'].apply(list)).reset_index()\n",
    "\n",
    "phecodeX = pd.read_csv(f\"{RAW_DATA_DIR}/4-8-22PheWAS_translate_PhecodeX_ICD_to_phecode.csv\",dtype={'phecode':str})\n",
    "phecodeX = phecodeX[phecodeX['flag'] == 9][['ICD','phecode']]\n",
    "phecodeX.columns = ['ICD9_code','phecodeX_codeList']\n",
    "phecodeX = pd.DataFrame(phecodeX.groupby('ICD9_code')['phecodeX_codeList'].apply(list)).reset_index()\n",
    "\n",
    "icd9_labels = pd.read_csv(f\"{DATA_DIR}/ICD9_labels.tsv\",sep=\"\\t\",dtype=str)\n",
    "merge = icd9_labels.merge(phecode12.merge(phecodeX,how='outer'))\n",
    "merge['ICD9_simpleLabel'] = [simpleLabel(x) for x in merge['ICD9_label']]\n",
    "\n",
    "merge[['ICD9_code','ICD9_label','ICD9_simpleLabel','phecode1.2_codeList','phecodeX_codeList']].to_csv(f\"{DATA_DIR}/ICD9.tsv\",sep=\"\\t\",index=False)"
   ]
  },
  {
   "cell_type": "code",
   "execution_count": 44,
   "metadata": {},
   "outputs": [
    {
     "name": "stdout",
     "output_type": "stream",
     "text": [
      "Number of terms with links in phecode1.2:\n"
     ]
    },
    {
     "data": {
      "text/plain": [
       "15558"
      ]
     },
     "execution_count": 44,
     "metadata": {},
     "output_type": "execute_result"
    },
    {
     "name": "stdout",
     "output_type": "stream",
     "text": [
      "Number of terms with links in phecodeX:\n"
     ]
    },
    {
     "data": {
      "text/plain": [
       "15507"
      ]
     },
     "execution_count": 44,
     "metadata": {},
     "output_type": "execute_result"
    }
   ],
   "source": [
    "df = pd.read_csv(f'{DATA_DIR}/ICD9.tsv',sep='\\t',dtype={'ICD9_code':str})\n",
    "print(\"Number of terms with links in phecode1.2:\")\n",
    "len(df[df['phecode1.2_codeList'].notnull()]['ICD9_code'].unique())\n",
    "print(\"Number of terms with links in phecodeX:\")\n",
    "len(df[df['phecodeX_codeList'].notnull()]['ICD9_code'].unique())\n"
   ]
  },
  {
   "cell_type": "markdown",
   "metadata": {},
   "source": [
    "### ICD10 (and links with Phecodes)"
   ]
  },
  {
   "cell_type": "code",
   "execution_count": null,
   "metadata": {
    "collapsed": true
   },
   "outputs": [],
   "source": [
    "phecode12 = pd.read_csv(f\"{RAW_DATA_DIR}/ICD-CM to phecode, unrolled.txt\",dtype={'phecode':str,'ICD':str},sep=\"\\t\")\n",
    "phecode12 = phecode12[phecode12['flag'] == 10][['ICD','phecode']]\n",
    "phecode12.columns = ['ICD10_code','phecode1.2_codeList']\n",
    "phecode12 = pd.DataFrame(phecode12.groupby('ICD10_code')['phecode1.2_codeList'].apply(list)).reset_index()\n",
    "\n",
    "phecodeX = pd.read_csv(f\"{RAW_DATA_DIR}/4-8-22PheWAS_translate_PhecodeX_ICD_to_phecode.csv\",dtype={'phecode':str})\n",
    "phecodeX = phecodeX[phecodeX['flag'] == 10][['ICD','phecode']]\n",
    "phecodeX.columns = ['ICD10_code','phecodeX_codeList']\n",
    "phecodeX = pd.DataFrame(phecodeX.groupby('ICD10_code')['phecodeX_codeList'].apply(list)).reset_index()\n",
    "\n",
    "icd10_labels = pd.read_csv(f\"{DATA_DIR}/ICD10_labels.tsv\",sep=\"\\t\",dtype=str)\n",
    "merge = icd10_labels.merge(phecode12.merge(phecodeX,how='outer'))\n",
    "merge['ICD10_simpleLabel'] = [simpleLabel(x) for x in merge['ICD10_label']]\n",
    "merge[['ICD10_code','ICD10_label','ICD10_simpleLabel','phecode1.2_codeList','phecodeX_codeList']].to_csv(f\"{DATA_DIR}/ICD10.tsv\",sep=\"\\t\",index=False)"
   ]
  },
  {
   "cell_type": "code",
   "execution_count": 46,
   "metadata": {},
   "outputs": [
    {
     "data": {
      "text/plain": [
       "84905"
      ]
     },
     "execution_count": 46,
     "metadata": {},
     "output_type": "execute_result"
    },
    {
     "name": "stdout",
     "output_type": "stream",
     "text": [
      "Number of terms with links in phecode1.2:\n"
     ]
    },
    {
     "data": {
      "text/plain": [
       "82183"
      ]
     },
     "execution_count": 46,
     "metadata": {},
     "output_type": "execute_result"
    },
    {
     "name": "stdout",
     "output_type": "stream",
     "text": [
      "Number of terms with links in phecodeX:\n"
     ]
    },
    {
     "data": {
      "text/plain": [
       "83826"
      ]
     },
     "execution_count": 46,
     "metadata": {},
     "output_type": "execute_result"
    }
   ],
   "source": [
    "df = pd.read_csv(f'{DATA_DIR}/ICD10.tsv',sep='\\t')\n",
    "print(\"Number of terms with links in phecode1.2:\")\n",
    "len(df[df['phecode1.2_codeList'].notnull()]['ICD10_code'].unique())\n",
    "print(\"Number of terms with links in phecodeX:\")\n",
    "len(df[df['phecodeX_codeList'].notnull()]['ICD10_code'].unique())\n",
    "\n",
    "#len(df['phecodeX_code'].unique())"
   ]
  },
  {
   "cell_type": "markdown",
   "metadata": {},
   "source": [
    "## Generate links (evidence files)"
   ]
  },
  {
   "cell_type": "markdown",
   "metadata": {},
   "source": [
    "### String, substring & wikimed map\n",
    "\n",
    "- String match hpo-ICD9\n",
    "- String match hpo-ICD10\n",
    "- String match hpo-phecode1.2\n",
    "- String match hpo-phecodeX\n",
    "\n",
    "\n",
    "- subString match hpo-to-ICD9\n",
    "- subString match hpo-to-ICD10\n",
    "- subString match hpo-to-phecode1.2\n",
    "- subString match hpo-to-phecodeX\n",
    "- subString match ICD9-to-hpo\n",
    "- subString match ICD10-to-hpo\n",
    "- subString match phecode1.2-to-hpo\n",
    "- subString match phecodeX-to-hpo\n",
    "\n",
    "\n",
    "- wikiMedMap match hpo-to-ICD9\n",
    "- wikiMedMap match hpo-to-ICD10\n"
   ]
  },
  {
   "cell_type": "markdown",
   "metadata": {},
   "source": [
    "#### Identify matches"
   ]
  },
  {
   "cell_type": "code",
   "execution_count": 21,
   "metadata": {},
   "outputs": [
    {
     "name": "stdout",
     "output_type": "stream",
     "text": [
      "#!/bin/bash\r\n",
      "#SBATCH --job-name=mapping\r\n",
      "#SBATCH --mail-user=evonne.mcarthur@vanderbilt.edu\r\n",
      "#SBATCH --mail-type=FAIL\r\n",
      "#SBATCH --time=1-00:00:00\r\n",
      "#SBATCH --nodes=1\r\n",
      "#SBATCH --mem=2G\r\n",
      "#SBATCH --begin=6:00:00\r\n",
      "#SBATCH --output=tmp/mapping_%a.out\r\n",
      "#SBATCH --array=0-84\r\n",
      "\r\n",
      "i=$SLURM_ARRAY_TASK_ID\r\n",
      "start=$(($i * 1000))\r\n",
      "end=$(($start + 1000))\r\n",
      "\r\n",
      "source activate hpo\r\n",
      "\r\n",
      "python mapping.py -f hpo -t ICD9 -m string -i \"$start\"-\"$end\" -o ./intermediate/\r\n",
      "python mapping.py -f hpo -t ICD10 -m string -i \"$start\"-\"$end\" -o ./intermediate/\r\n",
      "python mapping.py -f hpo -t phecode1.2 -m string -i \"$start\"-\"$end\" -o ./intermediate/\r\n",
      "python mapping.py -f hpo -t phecodeX -m string -i \"$start\"-\"$end\" -o ./intermediate/\r\n",
      "\r\n",
      "python mapping.py -f hpo -t ICD9 -m substring -i \"$start\"-\"$end\" -o ./intermediate/\r\n",
      "python mapping.py -f hpo -t ICD10 -m substring -i \"$start\"-\"$end\" -o ./intermediate/\r\n",
      "python mapping.py -f hpo -t phecode1.2 -m substring -i \"$start\"-\"$end\" -o ./intermediate/\r\n",
      "python mapping.py -f hpo -t phecodeX -m substring -i \"$start\"-\"$end\" -o ./intermediate/\r\n",
      "\r\n",
      "python mapping.py -f hpo -m wikimed -i \"$start\"-\"$end\" -o ./intermediate/ \r\n",
      "\r\n",
      "python mapping.py -f ICD9 -t hpo -m substring -i \"$start\"-\"$end\" -o ./intermediate/\r\n",
      "python mapping.py -f ICD10 -t hpo -m substring -i \"$start\"-\"$end\" -o ./intermediate/\r\n",
      "python mapping.py -f phecode1.2 -t hpo -m substring -i \"$start\"-\"$end\" -o ./intermediate/\r\n",
      "python mapping.py -f phecodeX -t hpo -m substring -i \"$start\"-\"$end\" -o ./intermediate/\r\n",
      "\r\n"
     ]
    }
   ],
   "source": [
    "# Run comparisons with parallelStringMapping.sh\n",
    "!cat parallelStringMapping.sh"
   ]
  },
  {
   "cell_type": "markdown",
   "metadata": {},
   "source": [
    "#### Read in and save matches"
   ]
  },
  {
   "cell_type": "code",
   "execution_count": 22,
   "metadata": {},
   "outputs": [
    {
     "name": "stdout",
     "output_type": "stream",
     "text": [
      "[]\n"
     ]
    }
   ],
   "source": [
    "# Read in the output of this parallel mapping\n",
    "\n",
    "INT_DIR = \"./intermediate\"\n",
    "failed = []\n",
    "\n",
    "files = [\n",
    "     'stringMatch_hpo-phecode1.2',\n",
    "     'subStringMatch_hpo-to-phecode1.2',\n",
    "     'subStringMatch_phecode1.2-to-hpo',\n",
    "     'stringMatch_hpo-phecodeX',\n",
    "     'subStringMatch_hpo-to-phecodeX',\n",
    "     'subStringMatch_phecodeX-to-hpo',\n",
    "     'stringMatch_hpo-ICD9',\n",
    "     'subStringMatch_hpo-to-ICD9',\n",
    "     'subStringMatch_ICD9-to-hpo',\n",
    "     'stringMatch_hpo-ICD10',\n",
    "     'subStringMatch_hpo-to-ICD10',\n",
    "     'subStringMatch_ICD10-to-hpo',\n",
    "     'wikiMedMap_hpo-to-ICD10',\n",
    "     'wikiMedMap_hpo-to-ICD9']\n",
    "\n",
    "\n",
    "files_withDF = {x:pd.DataFrame([]) for x in files}\n",
    "for i in range(84):\n",
    "    for f in files:\n",
    "        try:\n",
    "            try:\n",
    "                df = pd.read_csv(f\"{INT_DIR}/{f}_{i*1000}.tsv\",sep=\"\\t\",dtype=str)\n",
    "                files_withDF[f] = pd.concat([files_withDF[f],df],ignore_index=True)\n",
    "            except EmptyDataError:\n",
    "                pass\n",
    "        except FileNotFoundError:\n",
    "            failed.append(f\"{INT_DIR}/{f}_{i*1000}.tsv\")\n",
    "            \n",
    "print(failed)"
   ]
  },
  {
   "cell_type": "code",
   "execution_count": 27,
   "metadata": {
    "collapsed": true
   },
   "outputs": [],
   "source": [
    "# Save maps to evidence tables\n",
    "\n",
    "for k,v in files_withDF.items():\n",
    "    v.to_csv(f\"../data/evidenceTables/{k}.tsv\",sep=\"\\t\",index=False)"
   ]
  },
  {
   "cell_type": "markdown",
   "metadata": {},
   "source": [
    "Remove intermediate files\n",
    "```bash\n",
    "rm -rf intermediate/\n",
    "rm -rf tmp/\n",
    "```"
   ]
  },
  {
   "cell_type": "markdown",
   "metadata": {},
   "source": [
    "### SORTA"
   ]
  },
  {
   "cell_type": "markdown",
   "metadata": {},
   "source": [
    "#### Format for SORTA"
   ]
  },
  {
   "cell_type": "code",
   "execution_count": 1118,
   "metadata": {
    "collapsed": true
   },
   "outputs": [],
   "source": [
    "icd9 = pd.read_csv(f\"{DATA_DIR}/ICD9.tsv\",sep=\"\\t\",dtype=str)\n",
    "icd9_SORTA = icd9['ICD9_simpleLabel'].drop_duplicates().reset_index().drop('index',axis=1)\n",
    "icd9_SORTA.columns = ['Name']\n",
    "for i,r in enumerate(np.arange(0,len(icd9_SORTA),5000)):\n",
    "    icd9_SORTA.iloc[r:r+5000].to_csv(f\"{RAW_DATA_DIR}/SORTA/SORTA_input/ICD9_SORTA_input_{i}.txt\",sep=\";\",index=False)"
   ]
  },
  {
   "cell_type": "code",
   "execution_count": 1119,
   "metadata": {
    "collapsed": true
   },
   "outputs": [],
   "source": [
    "icd10 = pd.read_csv(f\"{DATA_DIR}/ICD10.tsv\",sep=\"\\t\",dtype=str)\n",
    "icd10_SORTA = icd10['ICD10_simpleLabel'].drop_duplicates().reset_index().drop('index',axis=1)\n",
    "icd10_SORTA.columns = ['Name']\n",
    "for i,r in enumerate(np.arange(0,len(icd10_SORTA),5000)):\n",
    "    icd10_SORTA.iloc[r:r+5000].to_csv(f\"{RAW_DATA_DIR}/SORTA/SORTA_input/ICD10_SORTA_input_{i}.txt\",sep=\";\",index=False)"
   ]
  },
  {
   "cell_type": "code",
   "execution_count": 1120,
   "metadata": {
    "collapsed": true
   },
   "outputs": [],
   "source": [
    "phecode = pd.read_csv(f\"{DATA_DIR}/phecode1.2.tsv\",sep=\"\\t\",dtype=str)\n",
    "phecode_SORTA = phecode['phecode1.2_simpleLabel'].drop_duplicates().reset_index().drop('index',axis=1)\n",
    "phecode_SORTA.columns = ['Name']\n",
    "for i,r in enumerate(np.arange(0,len(phecode_SORTA),5000)):\n",
    "    phecode_SORTA.iloc[r:r+5000].to_csv(f\"{RAW_DATA_DIR}/SORTA/SORTA_input/phecode1.2_SORTA_input_{i}.txt\",sep=\";\",index=False)"
   ]
  },
  {
   "cell_type": "code",
   "execution_count": 1121,
   "metadata": {
    "collapsed": true
   },
   "outputs": [],
   "source": [
    "phecode = pd.read_csv(f\"{DATA_DIR}/phecodeX.tsv\",sep=\"\\t\",dtype=str)\n",
    "phecode_SORTA = phecode['phecodeX_simpleLabel'].drop_duplicates().reset_index().drop('index',axis=1)\n",
    "phecode_SORTA.columns = ['Name']\n",
    "for i,r in enumerate(np.arange(0,len(phecode_SORTA),5000)):\n",
    "    phecode_SORTA.iloc[r:r+5000].to_csv(f\"{RAW_DATA_DIR}/SORTA/SORTA_input/phecodeX_SORTA_input_{i}.txt\",sep=\";\",index=False)"
   ]
  },
  {
   "cell_type": "markdown",
   "metadata": {},
   "source": [
    "#### Read in and save SORTA matches"
   ]
  },
  {
   "cell_type": "code",
   "execution_count": 33,
   "metadata": {},
   "outputs": [
    {
     "data": {
      "text/html": [
       "<div>\n",
       "<style>\n",
       "    .dataframe thead tr:only-child th {\n",
       "        text-align: right;\n",
       "    }\n",
       "\n",
       "    .dataframe thead th {\n",
       "        text-align: left;\n",
       "    }\n",
       "\n",
       "    .dataframe tbody tr th {\n",
       "        vertical-align: top;\n",
       "    }\n",
       "</style>\n",
       "<table border=\"1\" class=\"dataframe\">\n",
       "  <thead>\n",
       "    <tr style=\"text-align: right;\">\n",
       "      <th></th>\n",
       "      <th>hpo_code</th>\n",
       "      <th>hpo_label</th>\n",
       "    </tr>\n",
       "  </thead>\n",
       "  <tbody>\n",
       "    <tr>\n",
       "      <th>0</th>\n",
       "      <td>HP_0000002</td>\n",
       "      <td>Abnormality of body height</td>\n",
       "    </tr>\n",
       "    <tr>\n",
       "      <th>1</th>\n",
       "      <td>HP_0001507</td>\n",
       "      <td>Growth abnormality</td>\n",
       "    </tr>\n",
       "    <tr>\n",
       "      <th>2</th>\n",
       "      <td>HP_0000003</td>\n",
       "      <td>Multicystic kidney dysplasia</td>\n",
       "    </tr>\n",
       "    <tr>\n",
       "      <th>3</th>\n",
       "      <td>HP_0000107</td>\n",
       "      <td>Renal cyst</td>\n",
       "    </tr>\n",
       "    <tr>\n",
       "      <th>4</th>\n",
       "      <td>HP_0000005</td>\n",
       "      <td>Mode of inheritance</td>\n",
       "    </tr>\n",
       "  </tbody>\n",
       "</table>\n",
       "</div>"
      ],
      "text/plain": [
       "     hpo_code                     hpo_label\n",
       "0  HP_0000002    Abnormality of body height\n",
       "1  HP_0001507            Growth abnormality\n",
       "2  HP_0000003  Multicystic kidney dysplasia\n",
       "3  HP_0000107                    Renal cyst\n",
       "4  HP_0000005           Mode of inheritance"
      ]
     },
     "execution_count": 33,
     "metadata": {},
     "output_type": "execute_result"
    }
   ],
   "source": [
    "hpo = pd.read_csv(f\"{DATA_DIR}/hpo.tsv\",sep=\"\\t\",dtype=str)[['hpo_code','hpo_label','hpo_original']]\n",
    "hpo = hpo[hpo['hpo_original']=='True'].reset_index().drop(['index','hpo_original'],axis=1)\n",
    "hpo.head()"
   ]
  },
  {
   "cell_type": "code",
   "execution_count": 34,
   "metadata": {
    "collapsed": true
   },
   "outputs": [],
   "source": [
    "icd9 = pd.read_csv(f\"{DATA_DIR}/ICD9.tsv\",sep=\"\\t\",dtype=str)\n",
    "icd9_SORTA_output = pd.DataFrame([])\n",
    "\n",
    "icd9_SORTA = icd9['ICD9_simpleLabel'].drop_duplicates().reset_index().drop('index',axis=1)\n",
    "for i,r in enumerate(np.arange(0,len(icd9_SORTA),5000)):\n",
    "    in_df = pd.read_csv(f\"{RAW_DATA_DIR}/SORTA/SORTA_output/ICD9_SORTA_output_{i}.csv\",sep=\";\")[['Name','ontologyTermIRI','score']]\n",
    "    in_df.columns = ['ICD9_simpleLabel','hpo_code','SORTA_score']\n",
    "    in_df['hpo_code'] = [x.strip(\"http://purl.obolibrary.org/obo/\") for x in in_df['hpo_code']]\n",
    "    icd9_SORTA_output = pd.concat([icd9_SORTA_output,in_df],ignore_index=True)\n",
    "icd9_SORTA_output = icd9.merge(icd9_SORTA_output).merge(hpo)\n",
    "icd9_SORTA_output = icd9_SORTA_output[icd9_SORTA_output['SORTA_score'] >= 80].sort_values('ICD9_code')[['ICD9_code','ICD9_label','ICD9_simpleLabel','hpo_code','hpo_label','SORTA_score','phecode1.2_codeList','phecodeX_codeList']]\n",
    "icd9_SORTA_output.to_csv(f'{DATA_DIR}/evidenceTables/SORTA_ICD9-to-hpo.tsv',sep=\"\\t\",index=False)"
   ]
  },
  {
   "cell_type": "code",
   "execution_count": 35,
   "metadata": {
    "collapsed": true
   },
   "outputs": [],
   "source": [
    "icd10 = pd.read_csv(f\"{DATA_DIR}/ICD10.tsv\",sep=\"\\t\",dtype=str)\n",
    "icd10_SORTA_output = pd.DataFrame([])\n",
    "\n",
    "icd10_SORTA = icd10['ICD10_simpleLabel'].drop_duplicates().reset_index().drop('index',axis=1)\n",
    "for i,r in enumerate(np.arange(0,len(icd10_SORTA),5000)):\n",
    "    in_df = pd.read_csv(f\"{RAW_DATA_DIR}/SORTA/SORTA_output/ICD10_SORTA_output_{i}.csv\",sep=\";\")[['Name','ontologyTermIRI','score']]\n",
    "    in_df.columns = ['ICD10_simpleLabel','hpo_code','SORTA_score']\n",
    "    in_df['hpo_code'] = [x.strip(\"http://purl.obolibrary.org/obo/\") for x in in_df['hpo_code']]\n",
    "    icd10_SORTA_output = pd.concat([icd10_SORTA_output,in_df],ignore_index=True)\n",
    "icd10_SORTA_output = icd10.merge(icd10_SORTA_output).merge(hpo)\n",
    "icd10_SORTA_output = icd10_SORTA_output[icd10_SORTA_output['SORTA_score'] >= 80].sort_values('ICD10_code')[['ICD10_code','ICD10_label','ICD10_simpleLabel','hpo_code','hpo_label','SORTA_score','phecode1.2_codeList','phecodeX_codeList']]\n",
    "icd10_SORTA_output.to_csv(f'{DATA_DIR}/evidenceTables/SORTA_ICD10-to-hpo.tsv',sep=\"\\t\",index=False)"
   ]
  },
  {
   "cell_type": "code",
   "execution_count": 36,
   "metadata": {
    "collapsed": true
   },
   "outputs": [],
   "source": [
    "phecode = pd.read_csv(f\"{DATA_DIR}/phecode1.2.tsv\",sep=\"\\t\",dtype=str)\n",
    "phecode12_SORTA_output = pd.DataFrame([])\n",
    "\n",
    "phecode_SORTA = phecode['phecode1.2_simpleLabel'].drop_duplicates().reset_index().drop('index',axis=1)\n",
    "for i,r in enumerate(np.arange(0,len(phecode_SORTA),5000)):\n",
    "    in_df = pd.read_csv(f\"{RAW_DATA_DIR}/SORTA/SORTA_output/phecode1.2_SORTA_output_{i}.csv\",sep=\";\")[['Name','ontologyTermIRI','score']]\n",
    "    in_df.columns = ['phecode1.2_simpleLabel','hpo_code','SORTA_score']\n",
    "    in_df['hpo_code'] = [x.strip(\"http://purl.obolibrary.org/obo/\") for x in in_df['hpo_code']]\n",
    "    phecode12_SORTA_output = pd.concat([phecode12_SORTA_output,in_df],ignore_index=True)\n",
    "phecode12_SORTA_output = phecode.merge(phecode12_SORTA_output).merge(hpo)\n",
    "phecode12_SORTA_output = phecode12_SORTA_output[phecode12_SORTA_output['SORTA_score'] >= 80].sort_values('phecode1.2_code')[['phecode1.2_code','phecode1.2_label','phecode1.2_simpleLabel','phecode1.2_category','hpo_code','hpo_label','SORTA_score']]\n",
    "phecode12_SORTA_output.to_csv(f'{DATA_DIR}/evidenceTables/SORTA_phecode1.2-to-hpo.tsv',sep=\"\\t\",index=False)"
   ]
  },
  {
   "cell_type": "code",
   "execution_count": 37,
   "metadata": {
    "collapsed": true
   },
   "outputs": [],
   "source": [
    "phecode = pd.read_csv(f\"{DATA_DIR}/phecodeX.tsv\",sep=\"\\t\",dtype=str)\n",
    "phecodeX_SORTA_output = pd.DataFrame([])\n",
    "\n",
    "phecode_SORTA = phecode['phecodeX_simpleLabel'].drop_duplicates().reset_index().drop('index',axis=1)\n",
    "for i,r in enumerate(np.arange(0,len(phecode_SORTA),5000)):\n",
    "    in_df = pd.read_csv(f\"{RAW_DATA_DIR}/SORTA/SORTA_output/phecodeX_SORTA_output_{i}.csv\",sep=\";\")[['Name','ontologyTermIRI','score']]\n",
    "    in_df.columns = ['phecodeX_simpleLabel','hpo_code','SORTA_score']\n",
    "    in_df['hpo_code'] = [x.strip(\"http://purl.obolibrary.org/obo/\") for x in in_df['hpo_code']]\n",
    "    phecodeX_SORTA_output = pd.concat([phecodeX_SORTA_output,in_df],ignore_index=True)\n",
    "phecodeX_SORTA_output = phecode.merge(phecodeX_SORTA_output).merge(hpo)\n",
    "phecodeX_SORTA_output = phecodeX_SORTA_output[phecodeX_SORTA_output['SORTA_score'] >= 80].sort_values('phecodeX_code')[['phecodeX_code','phecodeX_label','phecodeX_simpleLabel','phecodeX_category','hpo_code','hpo_label','SORTA_score']]\n",
    "phecodeX_SORTA_output.to_csv(f'{DATA_DIR}/evidenceTables/SORTA_phecodeX-to-hpo.tsv',sep=\"\\t\",index=False)"
   ]
  },
  {
   "cell_type": "markdown",
   "metadata": {},
   "source": [
    "### UMLS mapping"
   ]
  },
  {
   "cell_type": "code",
   "execution_count": 38,
   "metadata": {
    "collapsed": true
   },
   "outputs": [],
   "source": [
    "def ICDsep(icd, codeStr):\n",
    "    if codeStr == 'ICD9':\n",
    "        if icd[0].isalpha():\n",
    "            return icd[0],float(icd[1:])\n",
    "        else:\n",
    "            return \"\",float(icd)\n",
    "    elif codeStr == 'ICD10':\n",
    "        prefix = icd[0]\n",
    "        cat = icd[1:].split(\".\")[0]\n",
    "        if cat.isnumeric():\n",
    "            numCategory = float(cat)\n",
    "            category = \"\"\n",
    "        else:\n",
    "            numCategory = np.nan\n",
    "            category = cat\n",
    "            \n",
    "        if \".\" in icd:\n",
    "            if icd.split(\".\")[1].isnumeric():\n",
    "                modifier = float(icd.split(\".\")[1])\n",
    "                return prefix, numCategory, category, modifier\n",
    "            elif icd.split(\".\")[1][:-1].isnumeric():\n",
    "                modifier = float(icd.split(\".\")[1][:-1])\n",
    "                return prefix, numCategory, category, modifier\n",
    "            \n",
    "        return prefix, numCategory, category, np.nan\n",
    "\n",
    "        \n",
    "def findICD10index(codeTuple, startOrEnd):\n",
    "    sub_icd10_order = icd10_order[icd10_order['ICD10_prefix'] == codeTuple[0]]\n",
    "    \n",
    "    if startOrEnd == 'start':\n",
    "        if not(np.isnan(codeTuple[1])):\n",
    "            sub_icd10_order = sub_icd10_order[sub_icd10_order['ICD10_numCategory'] >= codeTuple[1]]\n",
    "        else:\n",
    "            sub_icd10_order = sub_icd10_order[sub_icd10_order['ICD10_category'] == codeTuple[2]]\n",
    "        if not(np.isnan(codeTuple[3])):\n",
    "            sub_icd10_order = sub_icd10_order[sub_icd10_order['ICD10_suffix'] >= codeTuple[3]]\n",
    "        return sub_icd10_order.index[0]\n",
    "    else:\n",
    "        if not(np.isnan(codeTuple[1])):\n",
    "            sub_icd10_order = sub_icd10_order[sub_icd10_order['ICD10_numCategory'] <= codeTuple[1]]\n",
    "        else:\n",
    "            sub_icd10_order = sub_icd10_order[sub_icd10_order['ICD10_category'] == codeTuple[2]]\n",
    "        if not(np.isnan(codeTuple[3])):\n",
    "            sub_icd10_order = sub_icd10_order[(sub_icd10_order['ICD10_suffix'] <= codeTuple[3]) | sub_icd10_order['ICD10_suffix'].isnull()]\n",
    "\n",
    "        return sub_icd10_order.index[-1]\n",
    "    \n",
    "def extractICDrange(icd_range,codeStr):\n",
    "    start_code, end_code = [ICDsep(x,codeStr) for x in icd_range.split(\"-\")]\n",
    "    if codeStr == 'ICD9':\n",
    "        icd_codes = icd9_labels[(icd9_labels['ICD9_prefix'] == start_code[0]) & \n",
    "                               (icd9_labels['ICD9_prefix'] == end_code[0]) &\n",
    "                               (icd9_labels['ICD9_codeNum'] >= start_code[1]) &\n",
    "                               (icd9_labels['ICD9_codeNum'] <= end_code[1])]\n",
    "        return icd_codes['ICD9_code'].values\n",
    "    elif codeStr == 'ICD10':\n",
    "        start_idx = findICD10index(start_code, 'start')\n",
    "        end_idx = findICD10index(end_code, 'end')\n",
    "        icd_codes = icd10_order.loc[(icd10_order.index >= start_idx) & (icd10_order.index <= end_idx)]\n",
    "        return icd_codes['ICD10_code'].values\n",
    "\n",
    "icd9_labels = pd.read_csv(f\"{DATA_DIR}/ICD9_labels.tsv\",dtype=str,sep=\"\\t\")\n",
    "icd9_labels['ICD9_prefix'] = np.nan\n",
    "icd9_labels['ICD9_codeNum'] = np.nan\n",
    "icd9_labels[['ICD9_prefix','ICD9_codeNum']] = [ICDsep(x,'ICD9') for x in icd9_labels['ICD9_code']]\n",
    "\n",
    "icd10_order = pd.read_fwf(f\"{RAW_DATA_DIR}/icd10cm_order_2022.txt\",header=None,dtype=str, colspecs=[(0,6),(6,14),(14,15),(15,77),(77,500)])\n",
    "icd10_order.columns = ['index','ICD10_code','leaf','ICD10_labelShort','ICD10_label']\n",
    "icd10_order = icd10_order[['ICD10_code','ICD10_label']]\n",
    "icd10_order['ICD10_code'] = [f\"{x[:3]}.{x[3:]}\" if len(x) > 3 else x for x in icd10_order['ICD10_code']]\n",
    "icd10_order['ICD10_prefix'] = np.nan\n",
    "icd10_order['ICD10_numCategory'] = np.nan\n",
    "icd10_order['ICD10_category'] = np.nan\n",
    "icd10_order['ICD10_suffix'] = np.nan\n",
    "icd10_order[['ICD10_prefix','ICD10_numCategory','ICD10_category','ICD10_suffix']] = [ICDsep(x,'ICD10') for x in icd10_order['ICD10_code']]"
   ]
  },
  {
   "cell_type": "code",
   "execution_count": 57,
   "metadata": {
    "collapsed": true
   },
   "outputs": [],
   "source": [
    "hpo = pd.read_csv(f\"{DATA_DIR}/hpo.tsv\",sep=\"\\t\",dtype=str)[['hpo_code','hpo_label','hpo_original']]\n",
    "hpo = hpo[hpo['hpo_original']=='True'].reset_index().drop(['index','hpo_original'],axis=1)\n",
    "\n",
    "def umlsLinks(icd,icd_str):\n",
    "    icd = icd.groupby(['CUI','SAB'])['CODE'].apply(list).reset_index()\n",
    "    icd = icd.pivot(index='CUI', columns='SAB', values='CODE').reset_index()\n",
    "    icd = icd[icd['HPO'].notnull()  & icd[icd_str].notnull()]\n",
    "\n",
    "    icd_links = []\n",
    "    for i,r in icd.iterrows():\n",
    "        for icd in r[icd_str]:\n",
    "            if \"-\" in icd: # has a range of codes\n",
    "                icd_range = extractICDrange(icd,icd_str)\n",
    "                for icd_range_i in icd_range:\n",
    "                    for hpo_term in r['HPO']:\n",
    "                        icd_links.append({'CUI':r['CUI'],'hpo_code':hpo_term.replace(\":\",\"_\"),f'{icd_str}_code':icd_range_i})\n",
    "            else:\n",
    "                for hpo_term in r['HPO']:\n",
    "                    icd_links.append({'CUI':r['CUI'],'hpo_code':hpo_term.replace(\":\",\"_\"),f'{icd_str}_code':icd})\n",
    "    icd_links = pd.DataFrame(icd_links).drop_duplicates()\n",
    "    icd_phecode = pd.read_csv(f\"{DATA_DIR}/{icd_str}.tsv\",sep=\"\\t\",dtype=str).drop([f'{icd_str}_simpleLabel'],axis=1)\n",
    "    icd_links = icd_links.merge(icd_phecode).sort_values('CUI')\n",
    "    icd_links = icd_links.merge(hpo)\n",
    "    \n",
    "    return icd_links[['CUI',f'{icd_str}_code',f'{icd_str}_label','hpo_code','hpo_label','phecode1.2_codeList','phecodeX_codeList']]\n"
   ]
  },
  {
   "cell_type": "code",
   "execution_count": 59,
   "metadata": {
    "collapsed": true
   },
   "outputs": [],
   "source": [
    "df = umls[['CUI','SAB','CODE']]\n",
    "df = df[df['SAB'].isin(['HPO','ICD9CM','ICD10','ICD10CM'])] \n",
    "df['SAB'] = df['SAB'].replace({'ICD9CM':'ICD9','ICD10CM':'ICD10'})\n",
    "df = df.drop_duplicates()\n",
    "icd9 = df[df['SAB'].isin(['HPO','ICD9'])]\n",
    "icd10 = df[df['SAB'].isin(['HPO','ICD10'])]\n",
    "\n",
    "\n",
    "icd9_links = umlsLinks(icd9,'ICD9')\n",
    "icd9_links.to_csv(f'{DATA_DIR}/evidenceTables/sharedUMLSCUI_ICD9-hpo.tsv',sep=\"\\t\",index=False)\n",
    "icd10_links = umlsLinks(icd10,'ICD10')\n",
    "icd10_links.to_csv(f'{DATA_DIR}/evidenceTables/sharedUMLSCUI_ICD10-hpo.tsv',sep=\"\\t\",index=False)"
   ]
  },
  {
   "cell_type": "markdown",
   "metadata": {},
   "source": [
    "#### UMLS mapping plus synonymous terms"
   ]
  },
  {
   "cell_type": "code",
   "execution_count": 60,
   "metadata": {
    "collapsed": true
   },
   "outputs": [],
   "source": [
    "#RQ (related and possibly synonymous) SY (source asserted synonymy)\n",
    "\n",
    "umls_rel = pd.read_csv(f\"{RAW_DATA_DIR}/MRREL.RRF\",dtype=str,sep=\"|\",header=None)\n",
    "umls_rel.columns = ['CUI1','AUI1','STYPE1','REL','CUI2','AUI2','STYPE2','RELA','RUI','SRUI','SAB','SL','RG','DIR','SUPPRESS','CVF',\"\"]\n",
    "umls_sy = umls_rel[umls_rel['REL'] == 'SY'][['CUI1','CUI2']] #RQ too broad (eg #C0013404 dyspnea C0000737 abd pain)\n",
    "umls_sy = umls_sy[umls_sy['CUI1'] != umls_sy['CUI2']]\n",
    "umls_sy = umls_sy.drop_duplicates()\n",
    "umls_sy = pd.concat([umls_sy,umls_sy.rename(columns={'CUI1':'CUI2','CUI2':'CUI1'})]) # backwards and forwards links\n",
    "umls_sy = pd.DataFrame(umls_sy.groupby('CUI1')['CUI2'].apply(set))\n",
    "\n",
    "df = umls[['CUI','SAB','CODE']]\n",
    "df = df[df['SAB'].isin(['HPO','ICD9CM','ICD10','ICD10CM'])] \n",
    "df['SAB'] = df['SAB'].replace({'ICD9CM':'ICD9','ICD10CM':'ICD10'})\n",
    "df = df.drop_duplicates()\n",
    "\n",
    "df_rel = []\n",
    "for i,r in df.iterrows():\n",
    "    df_rel.append(dict(r))\n",
    "    if r['CUI'] in umls_sy.index:\n",
    "        rel_cui = umls_sy.loc[r['CUI']]['CUI2']\n",
    "        for cui in rel_cui:\n",
    "            df_rel.append({'CUI':cui,'SAB':r['SAB'],'CODE':r['CODE']})\n",
    "df_rel = pd.DataFrame(df_rel)\n",
    "df_rel = df_rel.drop_duplicates()\n",
    "\n",
    "icd9_rel = df_rel[df_rel['SAB'].isin(['HPO','ICD9'])]\n",
    "icd10_rel = df_rel[df_rel['SAB'].isin(['HPO','ICD10'])]\n"
   ]
  },
  {
   "cell_type": "code",
   "execution_count": 61,
   "metadata": {
    "collapsed": true
   },
   "outputs": [],
   "source": [
    "icd9_links = umlsLinks(icd9_rel,'ICD9')\n",
    "icd9_links.to_csv(f'{DATA_DIR}/evidenceTables/sharedUMLSCUIplusRel_ICD9-hpo.tsv',sep=\"\\t\",index=False)\n",
    "icd10_links = umlsLinks(icd10_rel,'ICD10')\n",
    "icd10_links.to_csv(f'{DATA_DIR}/evidenceTables/sharedUMLSCUIplusRel_ICD10-hpo.tsv',sep=\"\\t\",index=False)"
   ]
  },
  {
   "cell_type": "markdown",
   "metadata": {},
   "source": [
    "### PheMap"
   ]
  },
  {
   "cell_type": "code",
   "execution_count": null,
   "metadata": {
    "collapsed": true
   },
   "outputs": [],
   "source": [
    "# phemap_term = pd.read_csv(f\"{RAW_DATA_DIR}/PheMap_Mapped_Terminologies_1.1.csv\",dtype={'PHECODE':str,'CODE':str})\n",
    "# phemap_term = phemap_term[phemap_term['SOURCE'] == \"LNC\"][['PHECODE','CODE','TFIDF']]\n",
    "# phemap_term.columns = ['phecode1.2_code','loinc','score']\n",
    "# loinc = pd.read_csv(f\"{RAW_DATA_DIR}/loinc2hpo-annotations.tsv\",sep=\"\\t\",dtype=str)[['loincId','hpoTermId']]\n",
    "# loinc.columns=['loinc','hpo_code']\n",
    "# loinc['hpo_code'] = [x.replace(\":\",\"_\") for x in loinc['hpo_code']]\n",
    "# merge = loinc.merge(phemap_term)\n",
    "# 57 overlap but none with score > 6"
   ]
  },
  {
   "cell_type": "code",
   "execution_count": 69,
   "metadata": {},
   "outputs": [
    {
     "data": {
      "text/plain": [
       "13.756688919771902"
      ]
     },
     "execution_count": 69,
     "metadata": {},
     "output_type": "execute_result"
    },
    {
     "data": {
      "text/plain": [
       "43.21934845055406"
      ]
     },
     "execution_count": 69,
     "metadata": {},
     "output_type": "execute_result"
    },
    {
     "name": "stderr",
     "output_type": "stream",
     "text": [
      "/accre/arch/easybuild/software/BinDist/Anaconda3/5.0.1/lib/python3.6/site-packages/matplotlib/font_manager.py:1316: UserWarning: findfont: Font family ['sans-serif'] not found. Falling back to DejaVu Sans\n",
      "  (prop.get_family(), self.defaultFamily[fontext]))\n"
     ]
    },
    {
     "data": {
      "image/png": "[encoded data removed]",
      "text/plain": [
       "<matplotlib.figure.Figure at 0x2b868d129a90>"
      ]
     },
     "metadata": {},
     "output_type": "display_data"
    }
   ],
   "source": [
    "phecode = pd.read_csv(f\"{DATA_DIR}/phecode1.2.tsv\",sep=\"\\t\",dtype=str) # only for phecode 1.2\n",
    "hpo = pd.read_csv(f\"{DATA_DIR}/hpo.tsv\",sep=\"\\t\",dtype=str)[['hpo_code','hpo_label','hpo_original']]\n",
    "hpo = hpo[hpo['hpo_original']=='True'].reset_index().drop(['index','hpo_original'],axis=1)\n",
    "\n",
    "phemap = pd.read_csv(f\"{RAW_DATA_DIR}/PheMap_UMLS_Concepts_1.1.csv\",dtype={'PHECODE':str})\n",
    "phemap.columns = ['phecode1.2_code','CUI','PheMap_score']\n",
    "_ = phemap['PheMap_score'].hist(bins=100,figsize=(4,2))\n",
    "phemap['PheMap_score'].quantile(.95)\n",
    "phemap['PheMap_score'].quantile(.99)\n",
    "\n",
    "df = umls[['CUI','SAB','CODE']]\n",
    "df = df[df['SAB'] == 'HPO'].drop('SAB',axis=1).drop_duplicates()\n",
    "df.columns = ['CUI','hpo_code']\n",
    "df['hpo_code'] = [x.replace(\":\",\"_\") for x in df['hpo_code']]\n",
    "\n",
    "phemap = phemap.merge(df) # Merge on CUI\n",
    "phemap = phemap.merge(phecode).merge(hpo).sort_values('phecode1.2_code') # add labels from phecode1.2 and hpo\n",
    "phemap = phemap[phemap['PheMap_score'] > 13.756688919771902] # keep only 95th percentile+\n",
    "\n",
    "phemap = phemap[['phecode1.2_code','phecode1.2_label','phecode1.2_category','CUI','hpo_code','hpo_label','PheMap_score']]\n",
    "phemap.to_csv(f'{DATA_DIR}/evidenceTables/PheMap_phecode1.2-hpo.tsv',sep=\"\\t\",index=False)\n"
   ]
  },
  {
   "cell_type": "markdown",
   "metadata": {},
   "source": [
    "## Read in and combine evidence to form final maps"
   ]
  },
  {
   "cell_type": "code",
   "execution_count": 76,
   "metadata": {
    "collapsed": true
   },
   "outputs": [],
   "source": [
    "evidence_phecode12 = [\n",
    "    'stringMatch_hpo-phecode1.2',\n",
    "    'subStringMatch_hpo-to-phecode1.2',\n",
    "    'subStringMatch_phecode1.2-to-hpo',\n",
    "    'stringMatch_hpo-ICD9',\n",
    "    'subStringMatch_hpo-to-ICD9',\n",
    "    'subStringMatch_ICD9-to-hpo',\n",
    "    'stringMatch_hpo-ICD10',\n",
    "    'subStringMatch_hpo-to-ICD10',\n",
    "    'subStringMatch_ICD10-to-hpo',\n",
    "    'SORTA_phecode1.2-to-hpo',\n",
    "    'SORTA_ICD9-to-hpo',\n",
    "    'SORTA_ICD10-to-hpo',\n",
    "    'PheMap_phecode1.2-hpo',\n",
    "    'sharedUMLSCUI_ICD9-hpo',\n",
    "    'sharedUMLSCUIplusRel_ICD9-hpo',\n",
    "    'sharedUMLSCUI_ICD10-hpo',\n",
    "    'sharedUMLSCUIplusRel_ICD10-hpo',\n",
    "    'wikiMedMap_hpo-to-ICD9',\n",
    "    'wikiMedMap_hpo-to-ICD10',\n",
    "]\n",
    "\n",
    "evidence_phecodeX = [\n",
    "    'stringMatch_hpo-phecodeX',\n",
    "    'subStringMatch_hpo-to-phecodeX',\n",
    "    'subStringMatch_phecodeX-to-hpo',\n",
    "    'stringMatch_hpo-ICD9',\n",
    "    'subStringMatch_hpo-to-ICD9',\n",
    "    'subStringMatch_ICD9-to-hpo',\n",
    "    'stringMatch_hpo-ICD10',\n",
    "    'subStringMatch_hpo-to-ICD10',\n",
    "    'subStringMatch_ICD10-to-hpo',\n",
    "    'SORTA_phecodeX-to-hpo',\n",
    "    'SORTA_ICD9-to-hpo',\n",
    "    'SORTA_ICD10-to-hpo',\n",
    "    'sharedUMLSCUI_ICD9-hpo',\n",
    "    'sharedUMLSCUIplusRel_ICD9-hpo',\n",
    "    'sharedUMLSCUI_ICD10-hpo',\n",
    "    'sharedUMLSCUIplusRel_ICD10-hpo',\n",
    "    'wikiMedMap_hpo-to-ICD9',\n",
    "    'wikiMedMap_hpo-to-ICD10',\n",
    "]"
   ]
  },
  {
   "cell_type": "code",
   "execution_count": 72,
   "metadata": {
    "collapsed": true
   },
   "outputs": [],
   "source": [
    "phecode12 = pd.read_csv(f\"{DATA_DIR}/phecode1.2.tsv\",sep=\"\\t\",dtype=str)[['phecode1.2_code','phecode1.2_label','phecode1.2_category']]\n",
    "phecodeX = pd.read_csv(f\"{DATA_DIR}/phecodeX.tsv\",sep=\"\\t\",dtype=str)[['phecodeX_code','phecodeX_label','phecodeX_category']]\n",
    "hpo = pd.read_csv(f\"{DATA_DIR}/hpo.tsv\",sep=\"\\t\",dtype=str)[['hpo_code','hpo_label','hpo_original']]\n",
    "hpo = hpo[hpo['hpo_original']=='True'].reset_index().drop(['index','hpo_original'],axis=1)"
   ]
  },
  {
   "cell_type": "code",
   "execution_count": 73,
   "metadata": {
    "scrolled": false
   },
   "outputs": [
    {
     "data": {
      "text/html": [
       "<div>\n",
       "<style>\n",
       "    .dataframe thead tr:only-child th {\n",
       "        text-align: right;\n",
       "    }\n",
       "\n",
       "    .dataframe thead th {\n",
       "        text-align: left;\n",
       "    }\n",
       "\n",
       "    .dataframe tbody tr th {\n",
       "        vertical-align: top;\n",
       "    }\n",
       "</style>\n",
       "<table border=\"1\" class=\"dataframe\">\n",
       "  <thead>\n",
       "    <tr style=\"text-align: right;\">\n",
       "      <th></th>\n",
       "      <th>phecode1.2_code</th>\n",
       "      <th>phecode1.2_label</th>\n",
       "      <th>phecode1.2_category</th>\n",
       "      <th>hpo_code</th>\n",
       "      <th>hpo_label</th>\n",
       "      <th>stringMatch_hpo-phecode1.2</th>\n",
       "      <th>subStringMatch_hpo-to-phecode1.2</th>\n",
       "      <th>subStringMatch_phecode1.2-to-hpo</th>\n",
       "      <th>stringMatch_hpo-ICD9</th>\n",
       "      <th>subStringMatch_hpo-to-ICD9</th>\n",
       "      <th>...</th>\n",
       "      <th>SORTA_phecode1.2-to-hpo</th>\n",
       "      <th>SORTA_ICD9-to-hpo</th>\n",
       "      <th>SORTA_ICD10-to-hpo</th>\n",
       "      <th>PheMap_phecode1.2-hpo</th>\n",
       "      <th>sharedUMLSCUI_ICD9-hpo</th>\n",
       "      <th>sharedUMLSCUIplusRel_ICD9-hpo</th>\n",
       "      <th>sharedUMLSCUI_ICD10-hpo</th>\n",
       "      <th>sharedUMLSCUIplusRel_ICD10-hpo</th>\n",
       "      <th>wikiMedMap_hpo-to-ICD9</th>\n",
       "      <th>wikiMedMap_hpo-to-ICD10</th>\n",
       "    </tr>\n",
       "  </thead>\n",
       "  <tbody>\n",
       "    <tr>\n",
       "      <th>0</th>\n",
       "      <td>008</td>\n",
       "      <td>Intestinal infection</td>\n",
       "      <td>infectious diseases</td>\n",
       "      <td>HP_0033143</td>\n",
       "      <td>Jejunitis</td>\n",
       "      <td>NaN</td>\n",
       "      <td>NaN</td>\n",
       "      <td>NaN</td>\n",
       "      <td>NaN</td>\n",
       "      <td>NaN</td>\n",
       "      <td>...</td>\n",
       "      <td>NaN</td>\n",
       "      <td>NaN</td>\n",
       "      <td>NaN</td>\n",
       "      <td>NaN</td>\n",
       "      <td>NaN</td>\n",
       "      <td>NaN</td>\n",
       "      <td>NaN</td>\n",
       "      <td>NaN</td>\n",
       "      <td>True</td>\n",
       "      <td>True</td>\n",
       "    </tr>\n",
       "    <tr>\n",
       "      <th>1</th>\n",
       "      <td>008</td>\n",
       "      <td>Intestinal infection</td>\n",
       "      <td>infectious diseases</td>\n",
       "      <td>HP_0004387</td>\n",
       "      <td>Enterocolitis</td>\n",
       "      <td>NaN</td>\n",
       "      <td>NaN</td>\n",
       "      <td>NaN</td>\n",
       "      <td>NaN</td>\n",
       "      <td>NaN</td>\n",
       "      <td>...</td>\n",
       "      <td>NaN</td>\n",
       "      <td>NaN</td>\n",
       "      <td>NaN</td>\n",
       "      <td>NaN</td>\n",
       "      <td>NaN</td>\n",
       "      <td>NaN</td>\n",
       "      <td>NaN</td>\n",
       "      <td>NaN</td>\n",
       "      <td>NaN</td>\n",
       "      <td>True</td>\n",
       "    </tr>\n",
       "    <tr>\n",
       "      <th>2</th>\n",
       "      <td>008</td>\n",
       "      <td>Intestinal infection</td>\n",
       "      <td>infectious diseases</td>\n",
       "      <td>HP_0011024</td>\n",
       "      <td>Abnormality of the gastrointestinal tract</td>\n",
       "      <td>NaN</td>\n",
       "      <td>NaN</td>\n",
       "      <td>NaN</td>\n",
       "      <td>NaN</td>\n",
       "      <td>NaN</td>\n",
       "      <td>...</td>\n",
       "      <td>NaN</td>\n",
       "      <td>NaN</td>\n",
       "      <td>NaN</td>\n",
       "      <td>NaN</td>\n",
       "      <td>NaN</td>\n",
       "      <td>NaN</td>\n",
       "      <td>NaN</td>\n",
       "      <td>True</td>\n",
       "      <td>NaN</td>\n",
       "      <td>NaN</td>\n",
       "    </tr>\n",
       "    <tr>\n",
       "      <th>3</th>\n",
       "      <td>008</td>\n",
       "      <td>Intestinal infection</td>\n",
       "      <td>infectious diseases</td>\n",
       "      <td>HP_0200042</td>\n",
       "      <td>Skin ulcer</td>\n",
       "      <td>NaN</td>\n",
       "      <td>NaN</td>\n",
       "      <td>NaN</td>\n",
       "      <td>NaN</td>\n",
       "      <td>NaN</td>\n",
       "      <td>...</td>\n",
       "      <td>NaN</td>\n",
       "      <td>81.48</td>\n",
       "      <td>NaN</td>\n",
       "      <td>NaN</td>\n",
       "      <td>NaN</td>\n",
       "      <td>NaN</td>\n",
       "      <td>NaN</td>\n",
       "      <td>NaN</td>\n",
       "      <td>NaN</td>\n",
       "      <td>NaN</td>\n",
       "    </tr>\n",
       "    <tr>\n",
       "      <th>4</th>\n",
       "      <td>008</td>\n",
       "      <td>Intestinal infection</td>\n",
       "      <td>infectious diseases</td>\n",
       "      <td>HP_0100523</td>\n",
       "      <td>Liver abscess</td>\n",
       "      <td>NaN</td>\n",
       "      <td>NaN</td>\n",
       "      <td>NaN</td>\n",
       "      <td>NaN</td>\n",
       "      <td>NaN</td>\n",
       "      <td>...</td>\n",
       "      <td>NaN</td>\n",
       "      <td>84.85</td>\n",
       "      <td>84.85</td>\n",
       "      <td>NaN</td>\n",
       "      <td>NaN</td>\n",
       "      <td>NaN</td>\n",
       "      <td>NaN</td>\n",
       "      <td>NaN</td>\n",
       "      <td>NaN</td>\n",
       "      <td>NaN</td>\n",
       "    </tr>\n",
       "  </tbody>\n",
       "</table>\n",
       "<p>5 rows × 24 columns</p>\n",
       "</div>"
      ],
      "text/plain": [
       "  phecode1.2_code      phecode1.2_label  phecode1.2_category    hpo_code  \\\n",
       "0             008  Intestinal infection  infectious diseases  HP_0033143   \n",
       "1             008  Intestinal infection  infectious diseases  HP_0004387   \n",
       "2             008  Intestinal infection  infectious diseases  HP_0011024   \n",
       "3             008  Intestinal infection  infectious diseases  HP_0200042   \n",
       "4             008  Intestinal infection  infectious diseases  HP_0100523   \n",
       "\n",
       "                                   hpo_label stringMatch_hpo-phecode1.2  \\\n",
       "0                                  Jejunitis                        NaN   \n",
       "1                              Enterocolitis                        NaN   \n",
       "2  Abnormality of the gastrointestinal tract                        NaN   \n",
       "3                                 Skin ulcer                        NaN   \n",
       "4                              Liver abscess                        NaN   \n",
       "\n",
       "  subStringMatch_hpo-to-phecode1.2 subStringMatch_phecode1.2-to-hpo  \\\n",
       "0                              NaN                              NaN   \n",
       "1                              NaN                              NaN   \n",
       "2                              NaN                              NaN   \n",
       "3                              NaN                              NaN   \n",
       "4                              NaN                              NaN   \n",
       "\n",
       "  stringMatch_hpo-ICD9 subStringMatch_hpo-to-ICD9           ...            \\\n",
       "0                  NaN                        NaN           ...             \n",
       "1                  NaN                        NaN           ...             \n",
       "2                  NaN                        NaN           ...             \n",
       "3                  NaN                        NaN           ...             \n",
       "4                  NaN                        NaN           ...             \n",
       "\n",
       "  SORTA_phecode1.2-to-hpo SORTA_ICD9-to-hpo SORTA_ICD10-to-hpo  \\\n",
       "0                     NaN               NaN                NaN   \n",
       "1                     NaN               NaN                NaN   \n",
       "2                     NaN               NaN                NaN   \n",
       "3                     NaN             81.48                NaN   \n",
       "4                     NaN             84.85              84.85   \n",
       "\n",
       "  PheMap_phecode1.2-hpo  sharedUMLSCUI_ICD9-hpo  \\\n",
       "0                   NaN                     NaN   \n",
       "1                   NaN                     NaN   \n",
       "2                   NaN                     NaN   \n",
       "3                   NaN                     NaN   \n",
       "4                   NaN                     NaN   \n",
       "\n",
       "   sharedUMLSCUIplusRel_ICD9-hpo  sharedUMLSCUI_ICD10-hpo  \\\n",
       "0                            NaN                      NaN   \n",
       "1                            NaN                      NaN   \n",
       "2                            NaN                      NaN   \n",
       "3                            NaN                      NaN   \n",
       "4                            NaN                      NaN   \n",
       "\n",
       "   sharedUMLSCUIplusRel_ICD10-hpo wikiMedMap_hpo-to-ICD9  \\\n",
       "0                             NaN                   True   \n",
       "1                             NaN                    NaN   \n",
       "2                            True                    NaN   \n",
       "3                             NaN                    NaN   \n",
       "4                             NaN                    NaN   \n",
       "\n",
       "  wikiMedMap_hpo-to-ICD10  \n",
       "0                    True  \n",
       "1                    True  \n",
       "2                     NaN  \n",
       "3                     NaN  \n",
       "4                     NaN  \n",
       "\n",
       "[5 rows x 24 columns]"
      ]
     },
     "execution_count": 73,
     "metadata": {},
     "output_type": "execute_result"
    }
   ],
   "source": [
    "allLinks_phecode12 = pd.DataFrame(columns=['phecode1.2_code','hpo_code'])\n",
    "for evidence in evidence_phecode12:\n",
    "    df = pd.read_csv(f\"../data/evidenceTables/{evidence}.tsv\",sep=\"\\t\",dtype=str)\n",
    "\n",
    "    if 'phecode1.2_codeList' not in df.columns: # Direct phecode evidence\n",
    "        if any(['score' in x for x in df.columns]):\n",
    "            score_col = [x for x in df.columns if 'score' in x][0]\n",
    "            df[score_col] = [float(x) for x in df[score_col]]\n",
    "            links = df[['phecode1.2_code','hpo_code', score_col]].drop_duplicates()\n",
    "            links = links.groupby(['phecode1.2_code','hpo_code'])[[score_col]].max().reset_index()\n",
    "            links = links.rename(columns={score_col:evidence})\n",
    "        else:\n",
    "            links = df[['phecode1.2_code','hpo_code']].drop_duplicates()\n",
    "            links[evidence] = True\n",
    "        allLinks_phecode12 = allLinks_phecode12.merge(links,how='outer')\n",
    "    else: #phecode evidence through ICD codes\n",
    "        df = df[df['phecode1.2_codeList'].notnull()] # remove rows with only phecodeX associations\n",
    "        df['phecode1.2_codeList'] = [ast.literal_eval(x) for x in df['phecode1.2_codeList']]\n",
    "        links = []\n",
    "        if any(['score' in x for x in df.columns]):\n",
    "            score_col = [x for x in df.columns if 'score' in x][0]\n",
    "            df[score_col] = [float(x) for x in df[score_col]]\n",
    "            for i,r in df.iterrows():\n",
    "                links += [{'phecode1.2_code':code, 'hpo_code':r['hpo_code'], score_col:r[score_col]} for code in r['phecode1.2_codeList']]\n",
    "            links = pd.DataFrame(links)\n",
    "            links = links[['phecode1.2_code','hpo_code',score_col]].drop_duplicates()\n",
    "            links = links.groupby(['phecode1.2_code','hpo_code'])[[score_col]].max().reset_index()\n",
    "            links = links.rename(columns={score_col:evidence})\n",
    "        else:\n",
    "            for i,r in df.iterrows():\n",
    "                links += [{'phecode1.2_code':code, 'hpo_code':r['hpo_code']} for code in r['phecode1.2_codeList']]\n",
    "            links = pd.DataFrame(links).drop_duplicates()\n",
    "            links[evidence] = True\n",
    "        allLinks_phecode12 = allLinks_phecode12.merge(links,how='outer')\n",
    "allLinks_phecode12 = allLinks_phecode12.merge(phecode12).merge(hpo)\n",
    "allLinks_phecode12 = allLinks_phecode12[['phecode1.2_code', 'phecode1.2_label', 'phecode1.2_category','hpo_code', 'hpo_label'] + evidence_phecode12].sort_values('phecode1.2_code').reset_index().drop('index',axis=1)\n",
    "\n",
    "allLinks_phecode12.to_csv(\"../data/finalHPO-phecodeLinks/hpo-phecode1.2_links.tsv\",sep=\"\\t\",index=False)\n",
    "allLinks_phecode12.head()"
   ]
  },
  {
   "cell_type": "code",
   "execution_count": 77,
   "metadata": {},
   "outputs": [
    {
     "data": {
      "text/html": [
       "<div>\n",
       "<style>\n",
       "    .dataframe thead tr:only-child th {\n",
       "        text-align: right;\n",
       "    }\n",
       "\n",
       "    .dataframe thead th {\n",
       "        text-align: left;\n",
       "    }\n",
       "\n",
       "    .dataframe tbody tr th {\n",
       "        vertical-align: top;\n",
       "    }\n",
       "</style>\n",
       "<table border=\"1\" class=\"dataframe\">\n",
       "  <thead>\n",
       "    <tr style=\"text-align: right;\">\n",
       "      <th></th>\n",
       "      <th>phecodeX_code</th>\n",
       "      <th>phecodeX_label</th>\n",
       "      <th>phecodeX_category</th>\n",
       "      <th>hpo_code</th>\n",
       "      <th>hpo_label</th>\n",
       "      <th>stringMatch_hpo-phecodeX</th>\n",
       "      <th>subStringMatch_hpo-to-phecodeX</th>\n",
       "      <th>subStringMatch_phecodeX-to-hpo</th>\n",
       "      <th>stringMatch_hpo-ICD9</th>\n",
       "      <th>subStringMatch_hpo-to-ICD9</th>\n",
       "      <th>...</th>\n",
       "      <th>subStringMatch_ICD10-to-hpo</th>\n",
       "      <th>SORTA_phecodeX-to-hpo</th>\n",
       "      <th>SORTA_ICD9-to-hpo</th>\n",
       "      <th>SORTA_ICD10-to-hpo</th>\n",
       "      <th>sharedUMLSCUI_ICD9-hpo</th>\n",
       "      <th>sharedUMLSCUIplusRel_ICD9-hpo</th>\n",
       "      <th>sharedUMLSCUI_ICD10-hpo</th>\n",
       "      <th>sharedUMLSCUIplusRel_ICD10-hpo</th>\n",
       "      <th>wikiMedMap_hpo-to-ICD9</th>\n",
       "      <th>wikiMedMap_hpo-to-ICD10</th>\n",
       "    </tr>\n",
       "  </thead>\n",
       "  <tbody>\n",
       "    <tr>\n",
       "      <th>0</th>\n",
       "      <td>001</td>\n",
       "      <td>Salmonella</td>\n",
       "      <td>ID</td>\n",
       "      <td>HP_0033143</td>\n",
       "      <td>Jejunitis</td>\n",
       "      <td>NaN</td>\n",
       "      <td>NaN</td>\n",
       "      <td>NaN</td>\n",
       "      <td>NaN</td>\n",
       "      <td>NaN</td>\n",
       "      <td>...</td>\n",
       "      <td>NaN</td>\n",
       "      <td>NaN</td>\n",
       "      <td>NaN</td>\n",
       "      <td>NaN</td>\n",
       "      <td>NaN</td>\n",
       "      <td>NaN</td>\n",
       "      <td>NaN</td>\n",
       "      <td>NaN</td>\n",
       "      <td>NaN</td>\n",
       "      <td>True</td>\n",
       "    </tr>\n",
       "    <tr>\n",
       "      <th>1</th>\n",
       "      <td>001</td>\n",
       "      <td>Salmonella</td>\n",
       "      <td>ID</td>\n",
       "      <td>HP_0005661</td>\n",
       "      <td>Salmonella osteomyelitis</td>\n",
       "      <td>NaN</td>\n",
       "      <td>NaN</td>\n",
       "      <td>NaN</td>\n",
       "      <td>True</td>\n",
       "      <td>True</td>\n",
       "      <td>...</td>\n",
       "      <td>True</td>\n",
       "      <td>NaN</td>\n",
       "      <td>100.00</td>\n",
       "      <td>100.00</td>\n",
       "      <td>True</td>\n",
       "      <td>True</td>\n",
       "      <td>True</td>\n",
       "      <td>True</td>\n",
       "      <td>NaN</td>\n",
       "      <td>NaN</td>\n",
       "    </tr>\n",
       "    <tr>\n",
       "      <th>2</th>\n",
       "      <td>002</td>\n",
       "      <td>Staphylococcus</td>\n",
       "      <td>ID</td>\n",
       "      <td>HP_0000951</td>\n",
       "      <td>Abnormality of the skin</td>\n",
       "      <td>NaN</td>\n",
       "      <td>NaN</td>\n",
       "      <td>NaN</td>\n",
       "      <td>NaN</td>\n",
       "      <td>NaN</td>\n",
       "      <td>...</td>\n",
       "      <td>NaN</td>\n",
       "      <td>NaN</td>\n",
       "      <td>NaN</td>\n",
       "      <td>NaN</td>\n",
       "      <td>NaN</td>\n",
       "      <td>NaN</td>\n",
       "      <td>NaN</td>\n",
       "      <td>True</td>\n",
       "      <td>NaN</td>\n",
       "      <td>NaN</td>\n",
       "    </tr>\n",
       "    <tr>\n",
       "      <th>3</th>\n",
       "      <td>002</td>\n",
       "      <td>Staphylococcus</td>\n",
       "      <td>ID</td>\n",
       "      <td>HP_0032326</td>\n",
       "      <td>Methicillin-resistant Staphylococcus aureus in...</td>\n",
       "      <td>NaN</td>\n",
       "      <td>NaN</td>\n",
       "      <td>NaN</td>\n",
       "      <td>NaN</td>\n",
       "      <td>NaN</td>\n",
       "      <td>...</td>\n",
       "      <td>NaN</td>\n",
       "      <td>NaN</td>\n",
       "      <td>81.25</td>\n",
       "      <td>93.88</td>\n",
       "      <td>NaN</td>\n",
       "      <td>NaN</td>\n",
       "      <td>True</td>\n",
       "      <td>True</td>\n",
       "      <td>NaN</td>\n",
       "      <td>NaN</td>\n",
       "    </tr>\n",
       "    <tr>\n",
       "      <th>4</th>\n",
       "      <td>002</td>\n",
       "      <td>Staphylococcus</td>\n",
       "      <td>ID</td>\n",
       "      <td>HP_0100658</td>\n",
       "      <td>Cellulitis</td>\n",
       "      <td>NaN</td>\n",
       "      <td>NaN</td>\n",
       "      <td>NaN</td>\n",
       "      <td>NaN</td>\n",
       "      <td>NaN</td>\n",
       "      <td>...</td>\n",
       "      <td>NaN</td>\n",
       "      <td>NaN</td>\n",
       "      <td>NaN</td>\n",
       "      <td>NaN</td>\n",
       "      <td>NaN</td>\n",
       "      <td>NaN</td>\n",
       "      <td>NaN</td>\n",
       "      <td>True</td>\n",
       "      <td>NaN</td>\n",
       "      <td>NaN</td>\n",
       "    </tr>\n",
       "  </tbody>\n",
       "</table>\n",
       "<p>5 rows × 23 columns</p>\n",
       "</div>"
      ],
      "text/plain": [
       "  phecodeX_code  phecodeX_label phecodeX_category    hpo_code  \\\n",
       "0           001      Salmonella                ID  HP_0033143   \n",
       "1           001      Salmonella                ID  HP_0005661   \n",
       "2           002  Staphylococcus                ID  HP_0000951   \n",
       "3           002  Staphylococcus                ID  HP_0032326   \n",
       "4           002  Staphylococcus                ID  HP_0100658   \n",
       "\n",
       "                                           hpo_label stringMatch_hpo-phecodeX  \\\n",
       "0                                          Jejunitis                      NaN   \n",
       "1                           Salmonella osteomyelitis                      NaN   \n",
       "2                            Abnormality of the skin                      NaN   \n",
       "3  Methicillin-resistant Staphylococcus aureus in...                      NaN   \n",
       "4                                         Cellulitis                      NaN   \n",
       "\n",
       "  subStringMatch_hpo-to-phecodeX subStringMatch_phecodeX-to-hpo  \\\n",
       "0                            NaN                            NaN   \n",
       "1                            NaN                            NaN   \n",
       "2                            NaN                            NaN   \n",
       "3                            NaN                            NaN   \n",
       "4                            NaN                            NaN   \n",
       "\n",
       "  stringMatch_hpo-ICD9 subStringMatch_hpo-to-ICD9           ...            \\\n",
       "0                  NaN                        NaN           ...             \n",
       "1                 True                       True           ...             \n",
       "2                  NaN                        NaN           ...             \n",
       "3                  NaN                        NaN           ...             \n",
       "4                  NaN                        NaN           ...             \n",
       "\n",
       "  subStringMatch_ICD10-to-hpo SORTA_phecodeX-to-hpo SORTA_ICD9-to-hpo  \\\n",
       "0                         NaN                   NaN               NaN   \n",
       "1                        True                   NaN            100.00   \n",
       "2                         NaN                   NaN               NaN   \n",
       "3                         NaN                   NaN             81.25   \n",
       "4                         NaN                   NaN               NaN   \n",
       "\n",
       "  SORTA_ICD10-to-hpo  sharedUMLSCUI_ICD9-hpo  sharedUMLSCUIplusRel_ICD9-hpo  \\\n",
       "0                NaN                     NaN                            NaN   \n",
       "1             100.00                    True                           True   \n",
       "2                NaN                     NaN                            NaN   \n",
       "3              93.88                     NaN                            NaN   \n",
       "4                NaN                     NaN                            NaN   \n",
       "\n",
       "   sharedUMLSCUI_ICD10-hpo sharedUMLSCUIplusRel_ICD10-hpo  \\\n",
       "0                      NaN                            NaN   \n",
       "1                     True                           True   \n",
       "2                      NaN                           True   \n",
       "3                     True                           True   \n",
       "4                      NaN                           True   \n",
       "\n",
       "  wikiMedMap_hpo-to-ICD9 wikiMedMap_hpo-to-ICD10  \n",
       "0                    NaN                    True  \n",
       "1                    NaN                     NaN  \n",
       "2                    NaN                     NaN  \n",
       "3                    NaN                     NaN  \n",
       "4                    NaN                     NaN  \n",
       "\n",
       "[5 rows x 23 columns]"
      ]
     },
     "execution_count": 77,
     "metadata": {},
     "output_type": "execute_result"
    }
   ],
   "source": [
    "allLinks_phecodeX = pd.DataFrame(columns=['phecodeX_code','hpo_code'])\n",
    "for evidence in evidence_phecodeX:\n",
    "    df = pd.read_csv(f\"../data/evidenceTables/{evidence}.tsv\",sep=\"\\t\",dtype=str)\n",
    "\n",
    "    if 'phecodeX_codeList' not in df.columns: # Direct phecode evidence\n",
    "        if any(['score' in x for x in df.columns]):\n",
    "            score_col = [x for x in df.columns if 'score' in x][0]\n",
    "            df[score_col] = [float(x) for x in df[score_col]]\n",
    "            links = df[['phecodeX_code','hpo_code', score_col]].drop_duplicates()\n",
    "            links = links.groupby(['phecodeX_code','hpo_code'])[[score_col]].max().reset_index()\n",
    "            links = links.rename(columns={score_col:evidence})\n",
    "        else:\n",
    "            links = df[['phecodeX_code','hpo_code']].drop_duplicates()\n",
    "            links[evidence] = True\n",
    "        allLinks_phecodeX = allLinks_phecodeX.merge(links,how='outer')\n",
    "    else: #phecode evidence through ICD codes\n",
    "        df = df[df['phecodeX_codeList'].notnull()] # remove rows with only phecode1.2 associations\n",
    "        df['phecodeX_codeList'] = [ast.literal_eval(x) for x in df['phecodeX_codeList']]\n",
    "        links = []\n",
    "        if any(['score' in x for x in df.columns]):\n",
    "            score_col = [x for x in df.columns if 'score' in x][0]\n",
    "            df[score_col] = [float(x) for x in df[score_col]]\n",
    "            for i,r in df.iterrows():\n",
    "                links += [{'phecodeX_code':code, 'hpo_code':r['hpo_code'], score_col:r[score_col]} for code in r['phecodeX_codeList']]\n",
    "            links = pd.DataFrame(links)\n",
    "            links = links[['phecodeX_code','hpo_code',score_col]].drop_duplicates()\n",
    "            links = links.groupby(['phecodeX_code','hpo_code'])[[score_col]].max().reset_index()\n",
    "            links = links.rename(columns={score_col:evidence})\n",
    "        else:\n",
    "            for i,r in df.iterrows():\n",
    "                links += [{'phecodeX_code':code, 'hpo_code':r['hpo_code']} for code in r['phecodeX_codeList']]\n",
    "            links = pd.DataFrame(links).drop_duplicates()\n",
    "            links[evidence] = True\n",
    "        allLinks_phecodeX = allLinks_phecodeX.merge(links,how='outer')\n",
    "allLinks_phecodeX = allLinks_phecodeX.merge(phecodeX).merge(hpo) #! drop 2 codes with weirdness/missingness in phecodeX: 370.42, N293\n",
    "allLinks_phecodeX = allLinks_phecodeX[['phecodeX_code', 'phecodeX_label', 'phecodeX_category','hpo_code', 'hpo_label'] + evidence_phecodeX].sort_values('phecodeX_code').reset_index().drop('index',axis=1)\n",
    "\n",
    "allLinks_phecodeX.to_csv(\"../data/finalHPO-phecodeLinks/hpo-phecodeX_links.tsv\",sep=\"\\t\",index=False)\n",
    "allLinks_phecodeX.head()\n"
   ]
  },
  {
   "cell_type": "markdown",
   "metadata": {},
   "source": [
    "### Maps annotated by categories of evidence"
   ]
  },
  {
   "cell_type": "code",
   "execution_count": 78,
   "metadata": {
    "collapsed": true
   },
   "outputs": [],
   "source": [
    "allLinks_phecode12 = pd.read_csv(\"../data/finalHPO-phecodeLinks/hpo-phecode1.2_links.tsv\",sep=\"\\t\",dtype={'phecode1.2_code':str})\n",
    "allLinks_phecodeX = pd.read_csv(\"../data/finalHPO-phecodeLinks/hpo-phecodeX_links.tsv\",sep=\"\\t\",dtype={'phecodeX_code':str})"
   ]
  },
  {
   "cell_type": "code",
   "execution_count": 79,
   "metadata": {
    "collapsed": true
   },
   "outputs": [],
   "source": [
    "def levelsOfEvidence(allLinks, evidence, phecode_str):\n",
    "    allLinks['StrongEvidenceSpecific'] = (allLinks[f'stringMatch_hpo-{phecode_str}'].notnull() |\n",
    "                                             allLinks[f'subStringMatch_hpo-to-{phecode_str}'].notnull()|\n",
    "                                             allLinks[f'subStringMatch_{phecode_str}-to-hpo'].notnull() |\n",
    "                                              (allLinks[f'SORTA_{phecode_str}-to-hpo']== 100))\n",
    "    if phecode_str == 'phecode1.2':\n",
    "        allLinks['StrongEvidenceSpecific'] = (allLinks['StrongEvidenceSpecific'] |\n",
    "                                               (allLinks[f'PheMap_{phecode_str}-hpo'] >= 43.21934845055406))\n",
    "        \n",
    "    allLinks['StrongEvidenceSpecific'] = [True if x else  np.nan for x in allLinks['StrongEvidenceSpecific']]\n",
    "\n",
    "    allLinks['StrongEvidenceBroad'] = (allLinks[f'stringMatch_hpo-{phecode_str}'].notnull() |\n",
    "                                              allLinks[f'subStringMatch_hpo-to-{phecode_str}'].notnull() | \n",
    "                                              allLinks[f'subStringMatch_{phecode_str}-to-hpo'].notnull() | \n",
    "                                              allLinks['stringMatch_hpo-ICD9'].notnull() |\n",
    "                                              allLinks['stringMatch_hpo-ICD10'].notnull() |\n",
    "                                              allLinks['sharedUMLSCUI_ICD9-hpo'].notnull() | \n",
    "                                              allLinks['sharedUMLSCUI_ICD10-hpo'].notnull() | \n",
    "                                              (allLinks[f'SORTA_{phecode_str}-to-hpo']== 100) |\n",
    "                                              (allLinks['SORTA_ICD9-to-hpo']== 100) |\n",
    "                                              (allLinks['SORTA_ICD10-to-hpo']== 100) )\n",
    "    if phecode_str == 'phecode1.2':\n",
    "        allLinks['StrongEvidenceBroad'] = (allLinks['StrongEvidenceBroad'] |\n",
    "                                               (allLinks[f'PheMap_{phecode_str}-hpo'] >= 43.21934845055406))\n",
    "        \n",
    "    allLinks['StrongEvidenceBroad'] = [True if x else  np.nan for x in allLinks['StrongEvidenceBroad']]\n",
    "\n",
    "    allLinks['AnyEvidence'] = [True if x else  np.nan for x in allLinks[evidence].notnull().any(axis=1)]\n",
    "\n",
    "    return allLinks"
   ]
  },
  {
   "cell_type": "code",
   "execution_count": 80,
   "metadata": {
    "collapsed": true
   },
   "outputs": [],
   "source": [
    "allLinks_evidenceRating = levelsOfEvidence(allLinks_phecode12, evidence_phecode12, 'phecode1.2')\n",
    "allLinks_evidenceRating.to_csv(\"../data/finalHPO-phecodeLinks/hpo-phecode1.2_links_withEvidenceRatings.tsv\",sep=\"\\t\",index=False)\n",
    "\n",
    "allLinks_evidenceRating = levelsOfEvidence(allLinks_phecodeX, evidence_phecodeX, 'phecodeX')\n",
    "allLinks_evidenceRating.to_csv(\"../data/finalHPO-phecodeLinks/hpo-phecodeX_links_withEvidenceRatings.tsv\",sep=\"\\t\",index=False)"
   ]
  },
  {
   "cell_type": "markdown",
   "metadata": {},
   "source": [
    "### Maps with all children of HPO terms"
   ]
  },
  {
   "cell_type": "code",
   "execution_count": 174,
   "metadata": {
    "collapsed": true
   },
   "outputs": [],
   "source": [
    "allLinks_phecode12 = pd.read_csv(\"../data/finalHPO-phecodeLinks/hpo-phecode1.2_links.tsv\",sep=\"\\t\",dtype={'phecode1.2_code':str})\n",
    "allLinks_phecodeX = pd.read_csv(\"../data/finalHPO-phecodeLinks/hpo-phecodeX_links.tsv\",sep=\"\\t\",dtype={'phecodeX_code':str})\n",
    "\n",
    "phecode12 = pd.read_csv(f\"{DATA_DIR}/phecode1.2.tsv\",sep=\"\\t\",dtype=str)[['phecode1.2_code','phecode1.2_label','phecode1.2_category']]\n",
    "phecodeX = pd.read_csv(f\"{DATA_DIR}/phecodeX.tsv\",sep=\"\\t\",dtype=str)[['phecodeX_code','phecodeX_label','phecodeX_category']]\n",
    "hpo = pd.read_csv(f\"{DATA_DIR}/hpo.tsv\",sep=\"\\t\",dtype=str)[['hpo_code','hpo_label','hpo_original']]\n",
    "hpo = hpo[hpo['hpo_original']=='True'].reset_index().drop(['index','hpo_original'],axis=1)"
   ]
  },
  {
   "cell_type": "code",
   "execution_count": 176,
   "metadata": {
    "collapsed": true
   },
   "outputs": [],
   "source": [
    "def expandToChildren(allLinks, evidence, phecode_str):\n",
    "    allLinks_children = []\n",
    "    for i,r in allLinks.iterrows():\n",
    "        if i % 500 == 0:\n",
    "            print(i)\n",
    "        try:\n",
    "            term = Ontology.get_hpo_object(r['hpo_code'].replace('_',\":\"))\n",
    "        except:\n",
    "            try:\n",
    "                term = Ontology.get_hpo_object(r['hpo_label'])\n",
    "                print(f\"Used term name for {r['hpo_code']} {r['hpo_label']}. New term: {term.id} {term.name}\")\n",
    "            except:\n",
    "                print(f\"Failed {r['hpo_code']} {r['hpo_label']}\")\n",
    "                \n",
    "        children = []\n",
    "        _ = recursiveChildFinder(term.children,children)\n",
    "        allLinks_children.append({**r.drop(['hpo_label',f'{phecode_str}_label',f'{phecode_str}_category']),**{'hpo_child':False}})\n",
    "        if (len(set(children)) < 100):\n",
    "            for child in set(children):\n",
    "                allLinks_children.append({**r.drop(['hpo_label','hpo_code',f'{phecode_str}_label',f'{phecode_str}_category']),**{'hpo_code':child.replace(\":\",\"_\"),'hpo_child':True}})\n",
    "\n",
    "    allLinks_children = pd.DataFrame(allLinks_children)\n",
    "    allLinks_children = allLinks_children.groupby([f'{phecode_str}_code','hpo_code']).max().reset_index().merge(hpo) # Take the maximal evidence for each child link\n",
    "\n",
    "    if phecode_str == 'phecode1.2':\n",
    "        allLinks_children = allLinks_children.merge(phecode12)\n",
    "    elif phecode_str == 'phecodeX':\n",
    "        allLinks_children = allLinks_children.merge(phecodeX)\n",
    "        \n",
    "    return allLinks_children[[f'{phecode_str}_code', f'{phecode_str}_label', f'{phecode_str}_category',\n",
    "         'hpo_code', 'hpo_label', 'hpo_child'] + evidence]"
   ]
  },
  {
   "cell_type": "code",
   "execution_count": 177,
   "metadata": {},
   "outputs": [
    {
     "name": "stdout",
     "output_type": "stream",
     "text": [
      "0\n",
      "500\n",
      "1000\n",
      "1500\n",
      "2000\n",
      "2500\n",
      "3000\n",
      "3500\n",
      "4000\n",
      "4500\n",
      "5000\n",
      "5500\n",
      "6000\n",
      "6500\n",
      "7000\n",
      "7500\n",
      "8000\n",
      "8500\n",
      "9000\n",
      "9500\n",
      "10000\n",
      "10500\n",
      "0\n",
      "500\n",
      "1000\n",
      "1500\n",
      "2000\n",
      "2500\n",
      "3000\n",
      "3500\n",
      "4000\n",
      "4500\n",
      "5000\n",
      "5500\n",
      "6000\n",
      "6500\n",
      "7000\n",
      "7500\n",
      "8000\n",
      "8500\n",
      "9000\n",
      "9500\n",
      "10000\n",
      "10500\n",
      "11000\n",
      "11500\n",
      "12000\n",
      "12500\n"
     ]
    }
   ],
   "source": [
    "allLinks_children = expandToChildren(allLinks_phecode12, evidence_phecode12, 'phecode1.2')\n",
    "allLinks_children = levelsOfEvidence(allLinks_children, evidence_phecode12, 'phecode1.2')\n",
    "allLinks_children.to_csv(\"../data/finalHPO-phecodeLinks/hpo-phecode1.2_links_withHPOchildrenExpansion.tsv\",sep=\"\\t\",index=False)\n",
    "\n",
    "allLinks_children = expandToChildren(allLinks_phecodeX, evidence_phecodeX, 'phecodeX')\n",
    "allLinks_children = levelsOfEvidence(allLinks_children, evidence_phecodeX, 'phecodeX')\n",
    "allLinks_children.to_csv(\"../data/finalHPO-phecodeLinks/hpo-phecodeX_links_withHPOchildrenExpansion.tsv\",sep=\"\\t\",index=False)\n"
   ]
  },
  {
   "cell_type": "code",
   "execution_count": 179,
   "metadata": {
    "collapsed": true
   },
   "outputs": [],
   "source": [
    "allLinks_children_phecode12 = pd.read_csv(\"../data/finalHPO-phecodeLinks/hpo-phecode1.2_links_withHPOchildrenExpansion.tsv\",sep=\"\\t\",dtype={'phecode1.2_code':str})\n",
    "allLinks_children_phecodeX = pd.read_csv(\"../data/finalHPO-phecodeLinks/hpo-phecodeX_links_withHPOchildrenExpansion.tsv\",sep=\"\\t\",dtype={'phecodeX_code':str})"
   ]
  },
  {
   "cell_type": "code",
   "execution_count": 182,
   "metadata": {},
   "outputs": [
    {
     "data": {
      "text/plain": [
       "7936"
      ]
     },
     "execution_count": 182,
     "metadata": {},
     "output_type": "execute_result"
    }
   ],
   "source": [
    "len(allLinks_children_phecode12['hpo_code'].unique())"
   ]
  },
  {
   "cell_type": "code",
   "execution_count": 183,
   "metadata": {},
   "outputs": [
    {
     "data": {
      "text/plain": [
       "31592"
      ]
     },
     "execution_count": 183,
     "metadata": {},
     "output_type": "execute_result"
    },
    {
     "data": {
      "text/plain": [
       "5571"
      ]
     },
     "execution_count": 183,
     "metadata": {},
     "output_type": "execute_result"
    },
    {
     "data": {
      "text/plain": [
       "36237"
      ]
     },
     "execution_count": 183,
     "metadata": {},
     "output_type": "execute_result"
    },
    {
     "data": {
      "text/plain": [
       "5364"
      ]
     },
     "execution_count": 183,
     "metadata": {},
     "output_type": "execute_result"
    }
   ],
   "source": [
    "# Codes identified uniquely by children\n",
    "sum(allLinks_children_phecode12['hpo_child'])\n",
    "children = allLinks_children_phecode12[allLinks_children_phecode12['hpo_child']]['hpo_code'].unique()\n",
    "notChildren = allLinks_children_phecode12[~allLinks_children_phecode12['hpo_child']]['hpo_code'].unique()\n",
    "len(set([x for x in children if x not in notChildren]))\n",
    "\n",
    "\n",
    "sum(allLinks_children_phecodeX['hpo_child'])\n",
    "children = allLinks_children_phecodeX[allLinks_children_phecodeX['hpo_child']]['hpo_code'].unique()\n",
    "notChildren = allLinks_children_phecodeX[~allLinks_children_phecodeX['hpo_child']]['hpo_code'].unique()\n",
    "len([x for x in children if x not in notChildren])"
   ]
  },
  {
   "cell_type": "markdown",
   "metadata": {},
   "source": [
    "## Manually linked"
   ]
  },
  {
   "cell_type": "code",
   "execution_count": 130,
   "metadata": {},
   "outputs": [
    {
     "data": {
      "text/plain": [
       "4200"
      ]
     },
     "execution_count": 130,
     "metadata": {},
     "output_type": "execute_result"
    }
   ],
   "source": [
    "manual_links = pd.read_csv(f\"{RAW_DATA_DIR}/4-22-22mapsR_package_HPO_anno_view_for_Evonne.csv\",dtype={'jd_code':str})[['HPO_ID','jd_code']]\n",
    "manual_links.columns = ['hpo_code','phecode1.2_code']\n",
    "manual_links = manual_links[manual_links['phecode1.2_code'].notnull()].drop_duplicates()\n",
    "manual_links['hpo_code'] = [x.replace(\":\",\"_\") for x in manual_links['hpo_code']]\n",
    "manual_links.to_csv(f\"{DATA_DIR}/manualReview/hpo-phecode1.2-links_manuallyLinked.tsv\",sep=\"\\t\",index=False)\n",
    "len(manual_links)"
   ]
  },
  {
   "cell_type": "code",
   "execution_count": 128,
   "metadata": {},
   "outputs": [
    {
     "data": {
      "text/plain": [
       "4222"
      ]
     },
     "execution_count": 128,
     "metadata": {},
     "output_type": "execute_result"
    }
   ],
   "source": [
    "manual_links = pd.read_csv(f\"{RAW_DATA_DIR}/4-13-22mapsR_package_HPO_anno_phecodeX_view_for_Evonne.csv\",dtype={'jd_code':str})[['HPO_ID','jd_code']]\n",
    "manual_links.columns = ['hpo_code','phecodeX_code']\n",
    "manual_links = manual_links[manual_links['phecodeX_code'].notnull()].drop_duplicates()\n",
    "manual_links['hpo_code'] = [x.replace(\":\",\"_\") for x in manual_links['hpo_code']]\n",
    "manual_links.to_csv(f\"{DATA_DIR}/manualReview/hpo-phecodeX-links_manuallyLinked.tsv\",sep=\"\\t\",index=False)\n",
    "len(manual_links)"
   ]
  },
  {
   "cell_type": "markdown",
   "metadata": {},
   "source": [
    "## For manual review"
   ]
  },
  {
   "cell_type": "code",
   "execution_count": 146,
   "metadata": {
    "collapsed": true
   },
   "outputs": [],
   "source": [
    "allLinks_phecode12 = pd.read_csv(\"../data/finalHPO-phecodeLinks/hpo-phecode1.2_links.tsv\",sep=\"\\t\",dtype={'phecode1.2_code':str})\n",
    "manual_forReview = allLinks_phecode12.copy(deep=True)\n",
    "manual_forReview = manual_forReview.iloc[np.random.permutation(len(manual_forReview))][['phecode1.2_label','hpo_label','phecode1.2_code','hpo_code']]\n",
    "#manual_forReview.to_csv(\"../data/manualReview/hpo-phecode1.2-links_forManualReview.tsv\",sep=\"\\t\",index=False)"
   ]
  },
  {
   "cell_type": "code",
   "execution_count": 154,
   "metadata": {
    "collapsed": true
   },
   "outputs": [],
   "source": [
    "allLinks_phecodeX = pd.read_csv(\"../data/finalHPO-phecodeLinks/hpo-phecodeX_links.tsv\",sep=\"\\t\",dtype={'phecodeX_code':str})\n",
    "manual_forReview = allLinks_phecodeX.copy(deep=True)\n",
    "manual_forReview = manual_forReview.iloc[np.random.permutation(len(manual_forReview))][['phecodeX_label','hpo_label','phecodeX_code','hpo_code']]\n",
    "#manual_forReview.to_csv(\"../data/manualReview/hpo-phecodeX-links_forManualReview.tsv\",sep=\"\\t\",index=False)"
   ]
  },
  {
   "cell_type": "code",
   "execution_count": 155,
   "metadata": {
    "collapsed": true
   },
   "outputs": [],
   "source": [
    "allLinks_children_phecode12 = pd.read_csv(\"../data/finalHPO-phecodeLinks/hpo-phecode1.2_links_withHPOchildrenExpansion.tsv\",sep=\"\\t\",dtype={'phecode1.2_code':str})\n",
    "manual_forReview = allLinks_children_phecode12.copy(deep=True)\n",
    "manual_forReview = manual_forReview.iloc[np.random.permutation(len(manual_forReview))][['phecode1.2_label','hpo_label','phecode1.2_code','hpo_code']]\n",
    "#manual_forReview.to_csv(\"../data/manualReview/hpo-phecode1.2-links_withHPOchildrenExpansion_forManualReview.tsv\",sep=\"\\t\",index=False)"
   ]
  },
  {
   "cell_type": "code",
   "execution_count": 160,
   "metadata": {
    "collapsed": true
   },
   "outputs": [],
   "source": [
    "allLinks_children_phecodeX = pd.read_csv(\"../data/finalHPO-phecodeLinks/hpo-phecodeX_links_withHPOchildrenExpansion.tsv\",sep=\"\\t\",dtype={'phecode1.2_code':str})\n",
    "manual_forReview = allLinks_children_phecodeX.copy(deep=True)\n",
    "manual_forReview = manual_forReview.iloc[np.random.permutation(len(manual_forReview))][['phecodeX_label','hpo_label','phecodeX_code','hpo_code']]\n",
    "#manual_forReview.to_csv(\"../data/manualReview/hpo-phecodeX-links_withHPOchildrenExpansion_forManualReview.tsv\",sep=\"\\t\",index=False)"
   ]
  },
  {
   "cell_type": "markdown",
   "metadata": {},
   "source": [
    "## Filtered and formatted maps"
   ]
  },
  {
   "cell_type": "code",
   "execution_count": 2,
   "metadata": {
    "collapsed": true
   },
   "outputs": [],
   "source": [
    "allLinks_phecode12 = pd.read_csv(\"../data/finalHPO-phecodeLinks/hpo-phecode1.2_links_withEvidenceRatings.tsv\",sep=\"\\t\",dtype={'phecode1.2_code':str})\n",
    "allLinks_phecodeX = pd.read_csv(\"../data/finalHPO-phecodeLinks/hpo-phecodeX_links_withEvidenceRatings.tsv\",sep=\"\\t\",dtype={'phecodeX_code':str})\n",
    "allLinks_children_phecode12 = pd.read_csv(\"../data/finalHPO-phecodeLinks/hpo-phecode1.2_links_withHPOchildrenExpansion.tsv\",sep=\"\\t\",dtype={'phecode1.2_code':str})\n",
    "allLinks_children_phecodeX = pd.read_csv(\"../data/finalHPO-phecodeLinks/hpo-phecodeX_links_withHPOchildrenExpansion.tsv\",sep=\"\\t\",dtype={'phecodeX_code':str})"
   ]
  },
  {
   "cell_type": "markdown",
   "metadata": {},
   "source": [
    "### Filtered"
   ]
  },
  {
   "cell_type": "code",
   "execution_count": 17,
   "metadata": {
    "collapsed": true
   },
   "outputs": [],
   "source": [
    "def strongEvidenceFilter(df, out, label):\n",
    "    dfspec = df[df['StrongEvidenceSpecific'].notnull()]\n",
    "    dfspec.to_csv(f\"{out}_StrongEvidenceSpecific.tsv\",sep=\"\\t\",index=False)\n",
    "    dfbroad = df[df['StrongEvidenceBroad'].notnull()]\n",
    "    dfbroad.to_csv(f\"{out}_StrongEvidenceBroad.tsv\",sep=\"\\t\",index=False)\n",
    "    return dfspec, dfbroad"
   ]
  },
  {
   "cell_type": "code",
   "execution_count": 18,
   "metadata": {
    "collapsed": true
   },
   "outputs": [],
   "source": [
    "allLinks_phecode12_spec, allLinks_phecode12_broad = strongEvidenceFilter(allLinks_phecode12.copy(deep=True),\"../data/finalHPO-phecodeLinks/mapsFilteredByEvidenceType/hpo-phecode1.2_links\",\"1.2\")\n",
    "allLinks_phecodeX_spec, allLinks_phecodeX_broad = strongEvidenceFilter(allLinks_phecodeX.copy(deep=True),\"../data/finalHPO-phecodeLinks/mapsFilteredByEvidenceType/hpo-phecodeX_links\",\"X\")\n",
    "allLinks_children_phecode12_spec, allLinks_children_phecode12_broad = strongEvidenceFilter(allLinks_children_phecode12.copy(deep=True),\"../data/finalHPO-phecodeLinks/mapsFilteredByEvidenceType/hpo-phecode1.2_linkswithHPOchildrenExpansion\",\"1.2\")\n",
    "allLinks_children_phecodeX_spec, allLinks_children_phecodeX_broad = strongEvidenceFilter(allLinks_children_phecodeX.copy(deep=True),\"../data/finalHPO-phecodeLinks/mapsFilteredByEvidenceType/hpo-phecodeX_linkswithHPOchildrenExpansion\",\"X\")"
   ]
  },
  {
   "cell_type": "markdown",
   "metadata": {},
   "source": [
    "### Format for PheRS"
   ]
  },
  {
   "cell_type": "code",
   "execution_count": null,
   "metadata": {
    "collapsed": true
   },
   "outputs": [],
   "source": [
    "# PheRS format\n",
    "#  hpo_term_id                      hpo_term_name phecode                                  phecode_name\n",
    "#    1:  HP:0000003       Multicystic kidney dysplasia   586.2                      Cyst of kidney, acquired\n",
    "#    2:  HP:0000010 Recurrent urinary tract infections     591                       Urinary tract infection"
   ]
  },
  {
   "cell_type": "code",
   "execution_count": 13,
   "metadata": {
    "collapsed": true
   },
   "outputs": [],
   "source": [
    "def formatForPheRS(df,out,label):\n",
    "    df = df[['hpo_code','hpo_label',f'phecode{label}_code',f'phecode{label}_label']]\n",
    "    df['hpo_code'] = [x.replace(\"_\",\":\") for x in df['hpo_code']]\n",
    "    df.columns = ['hpo_term_id','hpo_term_name','phecode','phecode_name']\n",
    "    df.to_csv(f\"{out}_PheRS.tsv\",sep=\"\\t\",index=False)"
   ]
  },
  {
   "cell_type": "code",
   "execution_count": 14,
   "metadata": {},
   "outputs": [
    {
     "name": "stderr",
     "output_type": "stream",
     "text": [
      "/accre/arch/easybuild/software/BinDist/Anaconda3/5.0.1/lib/python3.6/site-packages/ipykernel_launcher.py:3: SettingWithCopyWarning: \n",
      "A value is trying to be set on a copy of a slice from a DataFrame.\n",
      "Try using .loc[row_indexer,col_indexer] = value instead\n",
      "\n",
      "See the caveats in the documentation: http://pandas.pydata.org/pandas-docs/stable/indexing.html#indexing-view-versus-copy\n",
      "  This is separate from the ipykernel package so we can avoid doing imports until\n"
     ]
    }
   ],
   "source": [
    "formatForPheRS(allLinks_phecode12.copy(deep=True),\"../data/finalHPO-phecodeLinks/mapsFilteredByEvidenceType/pheRSpackage/hpo-phecode1.2_links\",\"1.2\")\n",
    "formatForPheRS(allLinks_phecodeX.copy(deep=True),\"../data/finalHPO-phecodeLinks/mapsFilteredByEvidenceType/pheRSpackage/hpo-phecodeX_links\",\"X\")\n",
    "formatForPheRS(allLinks_children_phecode12.copy(deep=True),\"../data/finalHPO-phecodeLinks/mapsFilteredByEvidenceType/pheRSpackage/hpo-phecode1.2_linkswithHPOchildrenExpansion\",\"1.2\")\n",
    "formatForPheRS(allLinks_children_phecodeX.copy(deep=True),\"../data/finalHPO-phecodeLinks/mapsFilteredByEvidenceType/pheRSpackage/hpo-phecodeX_linkswithHPOchildrenExpansion\",\"X\")"
   ]
  },
  {
   "cell_type": "code",
   "execution_count": 19,
   "metadata": {},
   "outputs": [
    {
     "name": "stderr",
     "output_type": "stream",
     "text": [
      "/accre/arch/easybuild/software/BinDist/Anaconda3/5.0.1/lib/python3.6/site-packages/ipykernel_launcher.py:3: SettingWithCopyWarning: \n",
      "A value is trying to be set on a copy of a slice from a DataFrame.\n",
      "Try using .loc[row_indexer,col_indexer] = value instead\n",
      "\n",
      "See the caveats in the documentation: http://pandas.pydata.org/pandas-docs/stable/indexing.html#indexing-view-versus-copy\n",
      "  This is separate from the ipykernel package so we can avoid doing imports until\n"
     ]
    }
   ],
   "source": [
    "# PheRS formatted maps for filtered sets\n",
    "\n",
    "formatForPheRS(allLinks_phecode12_spec.copy(deep=True),\"../data/finalHPO-phecodeLinks/mapsFilteredByEvidenceType/pheRSpackage/hpo-phecode1.2_links_StrongEvidenceSpecific\",\"1.2\")\n",
    "formatForPheRS(allLinks_phecodeX_spec.copy(deep=True),\"../data/finalHPO-phecodeLinks/mapsFilteredByEvidenceType/pheRSpackage/hpo-phecodeX_links_StrongEvidenceSpecific\",\"X\")\n",
    "formatForPheRS(allLinks_children_phecode12_spec.copy(deep=True),\"../data/finalHPO-phecodeLinks/mapsFilteredByEvidenceType/pheRSpackage/hpo-phecode1.2_linkswithHPOchildrenExpansion_StrongEvidenceSpecific\",\"1.2\")\n",
    "formatForPheRS(allLinks_children_phecodeX_spec.copy(deep=True),\"../data/finalHPO-phecodeLinks/mapsFilteredByEvidenceType/pheRSpackage/hpo-phecodeX_linkswithHPOchildrenExpansion_StrongEvidenceSpecific\",\"X\")\n",
    "\n",
    "formatForPheRS(allLinks_phecode12_broad.copy(deep=True),\"../data/finalHPO-phecodeLinks/mapsFilteredByEvidenceType/pheRSpackage/hpo-phecode1.2_links_StrongEvidenceBroad\",\"1.2\")\n",
    "formatForPheRS(allLinks_phecodeX_broad.copy(deep=True),\"../data/finalHPO-phecodeLinks/mapsFilteredByEvidenceType/pheRSpackage/hpo-phecodeX_links_StrongEvidenceBroad\",\"X\")\n",
    "formatForPheRS(allLinks_children_phecode12_broad.copy(deep=True),\"../data/finalHPO-phecodeLinks/mapsFilteredByEvidenceType/pheRSpackage/hpo-phecode1.2_linkswithHPOchildrenExpansion_StrongEvidenceBroad\",\"1.2\")\n",
    "formatForPheRS(allLinks_children_phecodeX_broad.copy(deep=True),\"../data/finalHPO-phecodeLinks/mapsFilteredByEvidenceType/pheRSpackage/hpo-phecodeX_linkswithHPOchildrenExpansion_StrongEvidenceBroad\",\"X\")"
   ]
  },
  {
   "cell_type": "code",
   "execution_count": null,
   "metadata": {
    "collapsed": true
   },
   "outputs": [],
   "source": [
    "# To do:\n",
    "# Maps with only the top 1:1 HPO-Phecode mapping\n",
    "# Maybe arranged by how specific/precise the evidence is:\n",
    "# stringMatch_hpo-phecodeX\n",
    "# subStringMatch_hpo-to-phecodeX\n",
    "# subStringMatch_phecodeX-to-hpo\n",
    "# stringMatch_hpo-ICD9\n",
    "# SORTA_phecodeX-to-hpo\n",
    "# subStringMatch_ICD9-to-hpo\n",
    "# subStringMatch_ICD10-to-hpo\n",
    "# stringMatch_hpo-ICD10\n",
    "# subStringMatch_hpo-to-ICD10\n",
    "# subStringMatch_hpo-to-ICD9\n",
    "# SORTA_ICD10-to-hpo\n",
    "# SORTA_ICD9-to-hpo\n",
    "# wikiMedMap_hpo-to-ICD9\n",
    "# sharedUMLSCUIplusRel_ICD9-hpo\n",
    "# wikiMedMap_hpo-to-ICD10\n",
    "# sharedUMLSCUIplusRel_ICD10-hpo\n",
    "# PheMap"
   ]
  }
 ],
 "metadata": {
  "kernelspec": {
   "display_name": "Python 3",
   "language": "python",
   "name": "python3"
  },
  "language_info": {
   "codemirror_mode": {
    "name": "ipython",
    "version": 3
   },
   "file_extension": ".py",
   "mimetype": "text/x-python",
   "name": "python",
   "nbconvert_exporter": "python",
   "pygments_lexer": "ipython3",
   "version": "3.6.3"
  },
  "toc": {
   "base_numbering": 1,
   "nav_menu": {},
   "number_sections": true,
   "sideBar": true,
   "skip_h1_title": false,
   "title_cell": "Table of Contents",
   "title_sidebar": "Contents",
   "toc_cell": true,
   "toc_position": {},
   "toc_section_display": true,
   "toc_window_display": true
  }
 },
 "nbformat": 4,
 "nbformat_minor": 2
}
